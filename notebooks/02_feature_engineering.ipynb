{
 "cells": [
  {
   "cell_type": "markdown",
   "metadata": {},
   "source": [
    "# 2.   FEATURE ENGINEERING"
   ]
  },
  {
   "cell_type": "markdown",
   "metadata": {},
   "source": [
    "Import necessary libraries"
   ]
  },
  {
   "cell_type": "code",
   "execution_count": 1,
   "metadata": {},
   "outputs": [],
   "source": [
    "import pandas as pd\n",
    "import numpy as np\n",
    "import matplotlib.pyplot as plt\n",
    "import seaborn as sns"
   ]
  },
  {
   "cell_type": "markdown",
   "metadata": {},
   "source": [
    "Set default Seaborn style"
   ]
  },
  {
   "cell_type": "code",
   "execution_count": 2,
   "metadata": {},
   "outputs": [],
   "source": [
    "sns.set(style=\"whitegrid\")"
   ]
  },
  {
   "cell_type": "markdown",
   "metadata": {},
   "source": [
    "Load the training and test datasets"
   ]
  },
  {
   "cell_type": "code",
   "execution_count": 3,
   "metadata": {},
   "outputs": [],
   "source": [
    "train_data_path = '../data/CMaps/train_FD001.txt'\n",
    "test_data_path = '../data/CMaps/test_FD001.txt'\n",
    "rul_data_path = '../data/CMaps/RUL_FD001.txt'"
   ]
  },
  {
   "cell_type": "markdown",
   "metadata": {},
   "source": [
    "Define column names based on the dataset's structure"
   ]
  },
  {
   "cell_type": "code",
   "execution_count": 4,
   "metadata": {},
   "outputs": [],
   "source": [
    "col_names = [\n",
    "    'engine_id', 'time_in_cycles', \n",
    "    'operational_setting_1', 'operational_setting_2', 'operational_setting_3'\n",
    "] + [f'sensor_{i}' for i in range(1, 27)]  # This creates sensor_1 to sensor_21"
   ]
  },
  {
   "cell_type": "markdown",
   "metadata": {},
   "source": [
    "Load the train and test datasets"
   ]
  },
  {
   "cell_type": "code",
   "execution_count": 5,
   "metadata": {},
   "outputs": [],
   "source": [
    "train_df = pd.read_csv(train_data_path, sep=' ', header=None, names=col_names)\n",
    "test_df = pd.read_csv(test_data_path, sep=' ', header=None, names=col_names)"
   ]
  },
  {
   "cell_type": "markdown",
   "metadata": {},
   "source": [
    "Checking the shape of dataframes"
   ]
  },
  {
   "cell_type": "code",
   "execution_count": 6,
   "metadata": {},
   "outputs": [
    {
     "name": "stdout",
     "output_type": "stream",
     "text": [
      "The shape of the train dataframe is:  (20631, 31)\n",
      "The shape of the test dataframe is:  (20631, 31)\n"
     ]
    }
   ],
   "source": [
    "print(\"The shape of the train dataframe is: \", train_df.shape)\n",
    "print(\"The shape of the test dataframe is: \", train_df.shape)"
   ]
  },
  {
   "cell_type": "markdown",
   "metadata": {},
   "source": [
    "Drop columns that are completely empty (if any)"
   ]
  },
  {
   "cell_type": "code",
   "execution_count": 7,
   "metadata": {},
   "outputs": [],
   "source": [
    "train_df.dropna(axis=1, how='all', inplace=True)\n",
    "test_df.dropna(axis=1, how='all', inplace=True)"
   ]
  },
  {
   "cell_type": "markdown",
   "metadata": {},
   "source": [
    "Checking if shape has changed"
   ]
  },
  {
   "cell_type": "code",
   "execution_count": 8,
   "metadata": {},
   "outputs": [
    {
     "name": "stdout",
     "output_type": "stream",
     "text": [
      "The shape of the train dataframe is:  (20631, 26)\n",
      "The shape of the test dataframe is:  (20631, 26)\n"
     ]
    }
   ],
   "source": [
    "print(\"The shape of the train dataframe is: \", train_df.shape)\n",
    "print(\"The shape of the test dataframe is: \", train_df.shape)"
   ]
  },
  {
   "cell_type": "markdown",
   "metadata": {},
   "source": [
    "Load the Remaining Useful Life (RUL) data for the test set"
   ]
  },
  {
   "cell_type": "code",
   "execution_count": 9,
   "metadata": {},
   "outputs": [],
   "source": [
    "rul_df = pd.read_csv(rul_data_path, header=None, names=['RUL'])"
   ]
  },
  {
   "cell_type": "markdown",
   "metadata": {},
   "source": [
    "Checking the data"
   ]
  },
  {
   "cell_type": "code",
   "execution_count": 10,
   "metadata": {},
   "outputs": [
    {
     "data": {
      "application/vnd.microsoft.datawrangler.viewer.v0+json": {
       "columns": [
        {
         "name": "index",
         "rawType": "int64",
         "type": "integer"
        },
        {
         "name": "RUL",
         "rawType": "int64",
         "type": "integer"
        }
       ],
       "conversionMethod": "pd.DataFrame",
       "ref": "1ae30e9d-7cc2-4099-8aae-36ecb65f119e",
       "rows": [
        [
         "0",
         "112"
        ],
        [
         "1",
         "98"
        ],
        [
         "2",
         "69"
        ],
        [
         "3",
         "82"
        ],
        [
         "4",
         "91"
        ]
       ],
       "shape": {
        "columns": 1,
        "rows": 5
       }
      },
      "text/html": [
       "<div>\n",
       "<style scoped>\n",
       "    .dataframe tbody tr th:only-of-type {\n",
       "        vertical-align: middle;\n",
       "    }\n",
       "\n",
       "    .dataframe tbody tr th {\n",
       "        vertical-align: top;\n",
       "    }\n",
       "\n",
       "    .dataframe thead th {\n",
       "        text-align: right;\n",
       "    }\n",
       "</style>\n",
       "<table border=\"1\" class=\"dataframe\">\n",
       "  <thead>\n",
       "    <tr style=\"text-align: right;\">\n",
       "      <th></th>\n",
       "      <th>RUL</th>\n",
       "    </tr>\n",
       "  </thead>\n",
       "  <tbody>\n",
       "    <tr>\n",
       "      <th>0</th>\n",
       "      <td>112</td>\n",
       "    </tr>\n",
       "    <tr>\n",
       "      <th>1</th>\n",
       "      <td>98</td>\n",
       "    </tr>\n",
       "    <tr>\n",
       "      <th>2</th>\n",
       "      <td>69</td>\n",
       "    </tr>\n",
       "    <tr>\n",
       "      <th>3</th>\n",
       "      <td>82</td>\n",
       "    </tr>\n",
       "    <tr>\n",
       "      <th>4</th>\n",
       "      <td>91</td>\n",
       "    </tr>\n",
       "  </tbody>\n",
       "</table>\n",
       "</div>"
      ],
      "text/plain": [
       "   RUL\n",
       "0  112\n",
       "1   98\n",
       "2   69\n",
       "3   82\n",
       "4   91"
      ]
     },
     "execution_count": 10,
     "metadata": {},
     "output_type": "execute_result"
    }
   ],
   "source": [
    "rul_df.head()"
   ]
  },
  {
   "cell_type": "markdown",
   "metadata": {},
   "source": [
    "Add RUL values to the test dataframe\n",
    "Since the RUL values correspond to each engine in the test set, we add them directly to the test_df"
   ]
  },
  {
   "cell_type": "code",
   "execution_count": 11,
   "metadata": {},
   "outputs": [],
   "source": [
    "test_df['RUL'] = test_df['engine_id'].map(lambda x: rul_df.loc[x - 1, 'RUL'])"
   ]
  },
  {
   "cell_type": "markdown",
   "metadata": {},
   "source": [
    "Now, for each engine, the RUL value is the same for all cycles but corresponds to the final cycle for that engine.\n",
    "Let's verify the first few rows\n"
   ]
  },
  {
   "cell_type": "code",
   "execution_count": 12,
   "metadata": {},
   "outputs": [
    {
     "data": {
      "application/vnd.microsoft.datawrangler.viewer.v0+json": {
       "columns": [
        {
         "name": "index",
         "rawType": "int64",
         "type": "integer"
        },
        {
         "name": "engine_id",
         "rawType": "int64",
         "type": "integer"
        },
        {
         "name": "time_in_cycles",
         "rawType": "int64",
         "type": "integer"
        },
        {
         "name": "RUL",
         "rawType": "int64",
         "type": "integer"
        }
       ],
       "conversionMethod": "pd.DataFrame",
       "ref": "4593dd80-f53d-49f9-b897-223db731d661",
       "rows": [
        [
         "0",
         "1",
         "1",
         "112"
        ],
        [
         "1",
         "1",
         "2",
         "112"
        ],
        [
         "2",
         "1",
         "3",
         "112"
        ],
        [
         "3",
         "1",
         "4",
         "112"
        ],
        [
         "4",
         "1",
         "5",
         "112"
        ]
       ],
       "shape": {
        "columns": 3,
        "rows": 5
       }
      },
      "text/html": [
       "<div>\n",
       "<style scoped>\n",
       "    .dataframe tbody tr th:only-of-type {\n",
       "        vertical-align: middle;\n",
       "    }\n",
       "\n",
       "    .dataframe tbody tr th {\n",
       "        vertical-align: top;\n",
       "    }\n",
       "\n",
       "    .dataframe thead th {\n",
       "        text-align: right;\n",
       "    }\n",
       "</style>\n",
       "<table border=\"1\" class=\"dataframe\">\n",
       "  <thead>\n",
       "    <tr style=\"text-align: right;\">\n",
       "      <th></th>\n",
       "      <th>engine_id</th>\n",
       "      <th>time_in_cycles</th>\n",
       "      <th>RUL</th>\n",
       "    </tr>\n",
       "  </thead>\n",
       "  <tbody>\n",
       "    <tr>\n",
       "      <th>0</th>\n",
       "      <td>1</td>\n",
       "      <td>1</td>\n",
       "      <td>112</td>\n",
       "    </tr>\n",
       "    <tr>\n",
       "      <th>1</th>\n",
       "      <td>1</td>\n",
       "      <td>2</td>\n",
       "      <td>112</td>\n",
       "    </tr>\n",
       "    <tr>\n",
       "      <th>2</th>\n",
       "      <td>1</td>\n",
       "      <td>3</td>\n",
       "      <td>112</td>\n",
       "    </tr>\n",
       "    <tr>\n",
       "      <th>3</th>\n",
       "      <td>1</td>\n",
       "      <td>4</td>\n",
       "      <td>112</td>\n",
       "    </tr>\n",
       "    <tr>\n",
       "      <th>4</th>\n",
       "      <td>1</td>\n",
       "      <td>5</td>\n",
       "      <td>112</td>\n",
       "    </tr>\n",
       "  </tbody>\n",
       "</table>\n",
       "</div>"
      ],
      "text/plain": [
       "   engine_id  time_in_cycles  RUL\n",
       "0          1               1  112\n",
       "1          1               2  112\n",
       "2          1               3  112\n",
       "3          1               4  112\n",
       "4          1               5  112"
      ]
     },
     "execution_count": 12,
     "metadata": {},
     "output_type": "execute_result"
    }
   ],
   "source": [
    "test_df[['engine_id', 'time_in_cycles', 'RUL']].head()"
   ]
  },
  {
   "cell_type": "code",
   "execution_count": 13,
   "metadata": {},
   "outputs": [
    {
     "data": {
      "application/vnd.microsoft.datawrangler.viewer.v0+json": {
       "columns": [
        {
         "name": "index",
         "rawType": "int64",
         "type": "integer"
        },
        {
         "name": "engine_id",
         "rawType": "int64",
         "type": "integer"
        },
        {
         "name": "time_in_cycles",
         "rawType": "int64",
         "type": "integer"
        },
        {
         "name": "RUL",
         "rawType": "int64",
         "type": "integer"
        }
       ],
       "conversionMethod": "pd.DataFrame",
       "ref": "a0542a04-8824-4185-8971-e85c71ad7f92",
       "rows": [
        [
         "13091",
         "100",
         "194",
         "20"
        ],
        [
         "13092",
         "100",
         "195",
         "20"
        ],
        [
         "13093",
         "100",
         "196",
         "20"
        ],
        [
         "13094",
         "100",
         "197",
         "20"
        ],
        [
         "13095",
         "100",
         "198",
         "20"
        ]
       ],
       "shape": {
        "columns": 3,
        "rows": 5
       }
      },
      "text/html": [
       "<div>\n",
       "<style scoped>\n",
       "    .dataframe tbody tr th:only-of-type {\n",
       "        vertical-align: middle;\n",
       "    }\n",
       "\n",
       "    .dataframe tbody tr th {\n",
       "        vertical-align: top;\n",
       "    }\n",
       "\n",
       "    .dataframe thead th {\n",
       "        text-align: right;\n",
       "    }\n",
       "</style>\n",
       "<table border=\"1\" class=\"dataframe\">\n",
       "  <thead>\n",
       "    <tr style=\"text-align: right;\">\n",
       "      <th></th>\n",
       "      <th>engine_id</th>\n",
       "      <th>time_in_cycles</th>\n",
       "      <th>RUL</th>\n",
       "    </tr>\n",
       "  </thead>\n",
       "  <tbody>\n",
       "    <tr>\n",
       "      <th>13091</th>\n",
       "      <td>100</td>\n",
       "      <td>194</td>\n",
       "      <td>20</td>\n",
       "    </tr>\n",
       "    <tr>\n",
       "      <th>13092</th>\n",
       "      <td>100</td>\n",
       "      <td>195</td>\n",
       "      <td>20</td>\n",
       "    </tr>\n",
       "    <tr>\n",
       "      <th>13093</th>\n",
       "      <td>100</td>\n",
       "      <td>196</td>\n",
       "      <td>20</td>\n",
       "    </tr>\n",
       "    <tr>\n",
       "      <th>13094</th>\n",
       "      <td>100</td>\n",
       "      <td>197</td>\n",
       "      <td>20</td>\n",
       "    </tr>\n",
       "    <tr>\n",
       "      <th>13095</th>\n",
       "      <td>100</td>\n",
       "      <td>198</td>\n",
       "      <td>20</td>\n",
       "    </tr>\n",
       "  </tbody>\n",
       "</table>\n",
       "</div>"
      ],
      "text/plain": [
       "       engine_id  time_in_cycles  RUL\n",
       "13091        100             194   20\n",
       "13092        100             195   20\n",
       "13093        100             196   20\n",
       "13094        100             197   20\n",
       "13095        100             198   20"
      ]
     },
     "execution_count": 13,
     "metadata": {},
     "output_type": "execute_result"
    }
   ],
   "source": [
    "test_df[['engine_id', 'time_in_cycles', 'RUL']].tail()"
   ]
  },
  {
   "cell_type": "markdown",
   "metadata": {},
   "source": [
    "Each cycle for an engine will have the same RUL value that corresponds to the remaining cycles for that engine, starting from the last recorded cycle in the test data."
   ]
  },
  {
   "cell_type": "markdown",
   "metadata": {},
   "source": [
    "## 2.1 Rolling Statistics\n",
    "\n",
    "Let's create rolling means and rolling standard deviations for each sensor."
   ]
  },
  {
   "cell_type": "code",
   "execution_count": 14,
   "metadata": {},
   "outputs": [],
   "source": [
    "window_size = 5  # Set the window size for rolling calculations"
   ]
  },
  {
   "cell_type": "markdown",
   "metadata": {},
   "source": [
    "\n",
    "Create rolling mean and rolling std for each sensor"
   ]
  },
  {
   "cell_type": "code",
   "execution_count": 15,
   "metadata": {},
   "outputs": [],
   "source": [
    "for sensor in [f'sensor_{i}' for i in range(1, 22)]:\n",
    "    train_df[f'{sensor}_rolling_mean'] = train_df[sensor].rolling(window=window_size).mean()\n",
    "    train_df[f'{sensor}_rolling_std'] = train_df[sensor].rolling(window=window_size).std()\n",
    "    test_df[f'{sensor}_rolling_mean'] = test_df[sensor].rolling(window=window_size).mean()\n",
    "    test_df[f'{sensor}_rolling_std'] = test_df[sensor].rolling(window=window_size).std()"
   ]
  },
  {
   "cell_type": "markdown",
   "metadata": {},
   "source": [
    "Drop NaN values that result from the rolling mean and std calculations"
   ]
  },
  {
   "cell_type": "code",
   "execution_count": 16,
   "metadata": {},
   "outputs": [],
   "source": [
    "train_df.dropna(inplace=True)\n",
    "test_df.dropna(inplace=True)"
   ]
  },
  {
   "cell_type": "markdown",
   "metadata": {},
   "source": [
    "Check the first few rows to ensure the features have been added"
   ]
  },
  {
   "cell_type": "code",
   "execution_count": 17,
   "metadata": {},
   "outputs": [
    {
     "data": {
      "application/vnd.microsoft.datawrangler.viewer.v0+json": {
       "columns": [
        {
         "name": "index",
         "rawType": "int64",
         "type": "integer"
        },
        {
         "name": "engine_id",
         "rawType": "int64",
         "type": "integer"
        },
        {
         "name": "time_in_cycles",
         "rawType": "int64",
         "type": "integer"
        },
        {
         "name": "sensor_2",
         "rawType": "float64",
         "type": "float"
        },
        {
         "name": "sensor_2_rolling_mean",
         "rawType": "float64",
         "type": "float"
        },
        {
         "name": "sensor_2_rolling_std",
         "rawType": "float64",
         "type": "float"
        }
       ],
       "conversionMethod": "pd.DataFrame",
       "ref": "51ec4907-8eb2-4f2d-873a-61b50a3767a3",
       "rows": [
        [
         "4",
         "1",
         "5",
         "642.37",
         "642.208",
         "0.23477648945326032"
        ],
        [
         "5",
         "1",
         "6",
         "642.1",
         "642.2639999999999",
         "0.1283744522870989"
        ],
        [
         "6",
         "1",
         "7",
         "642.48",
         "642.3300000000002",
         "0.13946325680984661"
        ],
        [
         "7",
         "1",
         "8",
         "642.56",
         "642.372",
         "0.1742699056062101"
        ],
        [
         "8",
         "1",
         "9",
         "642.12",
         "642.326",
         "0.20851858430365522"
        ]
       ],
       "shape": {
        "columns": 5,
        "rows": 5
       }
      },
      "text/html": [
       "<div>\n",
       "<style scoped>\n",
       "    .dataframe tbody tr th:only-of-type {\n",
       "        vertical-align: middle;\n",
       "    }\n",
       "\n",
       "    .dataframe tbody tr th {\n",
       "        vertical-align: top;\n",
       "    }\n",
       "\n",
       "    .dataframe thead th {\n",
       "        text-align: right;\n",
       "    }\n",
       "</style>\n",
       "<table border=\"1\" class=\"dataframe\">\n",
       "  <thead>\n",
       "    <tr style=\"text-align: right;\">\n",
       "      <th></th>\n",
       "      <th>engine_id</th>\n",
       "      <th>time_in_cycles</th>\n",
       "      <th>sensor_2</th>\n",
       "      <th>sensor_2_rolling_mean</th>\n",
       "      <th>sensor_2_rolling_std</th>\n",
       "    </tr>\n",
       "  </thead>\n",
       "  <tbody>\n",
       "    <tr>\n",
       "      <th>4</th>\n",
       "      <td>1</td>\n",
       "      <td>5</td>\n",
       "      <td>642.37</td>\n",
       "      <td>642.208</td>\n",
       "      <td>0.234776</td>\n",
       "    </tr>\n",
       "    <tr>\n",
       "      <th>5</th>\n",
       "      <td>1</td>\n",
       "      <td>6</td>\n",
       "      <td>642.10</td>\n",
       "      <td>642.264</td>\n",
       "      <td>0.128374</td>\n",
       "    </tr>\n",
       "    <tr>\n",
       "      <th>6</th>\n",
       "      <td>1</td>\n",
       "      <td>7</td>\n",
       "      <td>642.48</td>\n",
       "      <td>642.330</td>\n",
       "      <td>0.139463</td>\n",
       "    </tr>\n",
       "    <tr>\n",
       "      <th>7</th>\n",
       "      <td>1</td>\n",
       "      <td>8</td>\n",
       "      <td>642.56</td>\n",
       "      <td>642.372</td>\n",
       "      <td>0.174270</td>\n",
       "    </tr>\n",
       "    <tr>\n",
       "      <th>8</th>\n",
       "      <td>1</td>\n",
       "      <td>9</td>\n",
       "      <td>642.12</td>\n",
       "      <td>642.326</td>\n",
       "      <td>0.208519</td>\n",
       "    </tr>\n",
       "  </tbody>\n",
       "</table>\n",
       "</div>"
      ],
      "text/plain": [
       "   engine_id  time_in_cycles  sensor_2  sensor_2_rolling_mean  \\\n",
       "4          1               5    642.37                642.208   \n",
       "5          1               6    642.10                642.264   \n",
       "6          1               7    642.48                642.330   \n",
       "7          1               8    642.56                642.372   \n",
       "8          1               9    642.12                642.326   \n",
       "\n",
       "   sensor_2_rolling_std  \n",
       "4              0.234776  \n",
       "5              0.128374  \n",
       "6              0.139463  \n",
       "7              0.174270  \n",
       "8              0.208519  "
      ]
     },
     "execution_count": 17,
     "metadata": {},
     "output_type": "execute_result"
    }
   ],
   "source": [
    "train_df[['engine_id', 'time_in_cycles', 'sensor_2', 'sensor_2_rolling_mean', 'sensor_2_rolling_std']].head()"
   ]
  },
  {
   "cell_type": "markdown",
   "metadata": {},
   "source": [
    "## 2.2 Delta Features (Difference between Consecutive Cycles)\n",
    "Calculate the delta (difference) between consecutive cycles for each sensor."
   ]
  },
  {
   "cell_type": "code",
   "execution_count": 18,
   "metadata": {},
   "outputs": [],
   "source": [
    "for sensor in [f'sensor_{i}' for i in range(1, 22)]:\n",
    "    train_df[f'{sensor}_delta'] = train_df[sensor] - train_df.groupby('engine_id')[sensor].shift(1)\n",
    "    test_df[f'{sensor}_delta'] = test_df[sensor] - test_df.groupby('engine_id')[sensor].shift(1)"
   ]
  },
  {
   "cell_type": "markdown",
   "metadata": {},
   "source": [
    "Drop NaN values resulting from the shift operation"
   ]
  },
  {
   "cell_type": "code",
   "execution_count": 19,
   "metadata": {},
   "outputs": [],
   "source": [
    "train_df.dropna(inplace=True)\n",
    "test_df.dropna(inplace=True)"
   ]
  },
  {
   "cell_type": "markdown",
   "metadata": {},
   "source": [
    "Check the first few rows to ensure the delta features have been added"
   ]
  },
  {
   "cell_type": "code",
   "execution_count": 20,
   "metadata": {},
   "outputs": [
    {
     "data": {
      "application/vnd.microsoft.datawrangler.viewer.v0+json": {
       "columns": [
        {
         "name": "index",
         "rawType": "int64",
         "type": "integer"
        },
        {
         "name": "engine_id",
         "rawType": "int64",
         "type": "integer"
        },
        {
         "name": "time_in_cycles",
         "rawType": "int64",
         "type": "integer"
        },
        {
         "name": "sensor_2",
         "rawType": "float64",
         "type": "float"
        },
        {
         "name": "sensor_2_delta",
         "rawType": "float64",
         "type": "float"
        }
       ],
       "conversionMethod": "pd.DataFrame",
       "ref": "8d801bb3-eb85-4830-978f-5c1cb1940c87",
       "rows": [
        [
         "5",
         "1",
         "6",
         "642.1",
         "-0.2699999999999818"
        ],
        [
         "6",
         "1",
         "7",
         "642.48",
         "0.37999999999999545"
        ],
        [
         "7",
         "1",
         "8",
         "642.56",
         "0.07999999999992724"
        ],
        [
         "8",
         "1",
         "9",
         "642.12",
         "-0.4399999999999409"
        ],
        [
         "9",
         "1",
         "10",
         "641.71",
         "-0.40999999999996817"
        ]
       ],
       "shape": {
        "columns": 4,
        "rows": 5
       }
      },
      "text/html": [
       "<div>\n",
       "<style scoped>\n",
       "    .dataframe tbody tr th:only-of-type {\n",
       "        vertical-align: middle;\n",
       "    }\n",
       "\n",
       "    .dataframe tbody tr th {\n",
       "        vertical-align: top;\n",
       "    }\n",
       "\n",
       "    .dataframe thead th {\n",
       "        text-align: right;\n",
       "    }\n",
       "</style>\n",
       "<table border=\"1\" class=\"dataframe\">\n",
       "  <thead>\n",
       "    <tr style=\"text-align: right;\">\n",
       "      <th></th>\n",
       "      <th>engine_id</th>\n",
       "      <th>time_in_cycles</th>\n",
       "      <th>sensor_2</th>\n",
       "      <th>sensor_2_delta</th>\n",
       "    </tr>\n",
       "  </thead>\n",
       "  <tbody>\n",
       "    <tr>\n",
       "      <th>5</th>\n",
       "      <td>1</td>\n",
       "      <td>6</td>\n",
       "      <td>642.10</td>\n",
       "      <td>-0.27</td>\n",
       "    </tr>\n",
       "    <tr>\n",
       "      <th>6</th>\n",
       "      <td>1</td>\n",
       "      <td>7</td>\n",
       "      <td>642.48</td>\n",
       "      <td>0.38</td>\n",
       "    </tr>\n",
       "    <tr>\n",
       "      <th>7</th>\n",
       "      <td>1</td>\n",
       "      <td>8</td>\n",
       "      <td>642.56</td>\n",
       "      <td>0.08</td>\n",
       "    </tr>\n",
       "    <tr>\n",
       "      <th>8</th>\n",
       "      <td>1</td>\n",
       "      <td>9</td>\n",
       "      <td>642.12</td>\n",
       "      <td>-0.44</td>\n",
       "    </tr>\n",
       "    <tr>\n",
       "      <th>9</th>\n",
       "      <td>1</td>\n",
       "      <td>10</td>\n",
       "      <td>641.71</td>\n",
       "      <td>-0.41</td>\n",
       "    </tr>\n",
       "  </tbody>\n",
       "</table>\n",
       "</div>"
      ],
      "text/plain": [
       "   engine_id  time_in_cycles  sensor_2  sensor_2_delta\n",
       "5          1               6    642.10           -0.27\n",
       "6          1               7    642.48            0.38\n",
       "7          1               8    642.56            0.08\n",
       "8          1               9    642.12           -0.44\n",
       "9          1              10    641.71           -0.41"
      ]
     },
     "execution_count": 20,
     "metadata": {},
     "output_type": "execute_result"
    }
   ],
   "source": [
    "train_df[['engine_id', 'time_in_cycles', 'sensor_2', 'sensor_2_delta']].head()"
   ]
  },
  {
   "cell_type": "markdown",
   "metadata": {},
   "source": [
    "## 2.3 Cumulative Features (Cumulative Sum and Mean)\n",
    "Create cumulative sum and cumulative mean for each sensor."
   ]
  },
  {
   "cell_type": "code",
   "execution_count": 21,
   "metadata": {},
   "outputs": [
    {
     "name": "stderr",
     "output_type": "stream",
     "text": [
      "C:\\Users\\amurd\\AppData\\Local\\Temp\\ipykernel_44060\\1281283644.py:3: PerformanceWarning: DataFrame is highly fragmented.  This is usually the result of calling `frame.insert` many times, which has poor performance.  Consider joining all columns at once using pd.concat(axis=1) instead. To get a de-fragmented frame, use `newframe = frame.copy()`\n",
      "  train_df[f'{sensor}_cummean'] = train_df[sensor].expanding().mean()\n",
      "C:\\Users\\amurd\\AppData\\Local\\Temp\\ipykernel_44060\\1281283644.py:4: PerformanceWarning: DataFrame is highly fragmented.  This is usually the result of calling `frame.insert` many times, which has poor performance.  Consider joining all columns at once using pd.concat(axis=1) instead. To get a de-fragmented frame, use `newframe = frame.copy()`\n",
      "  test_df[f'{sensor}_cumsum'] = test_df[sensor].cumsum()\n",
      "C:\\Users\\amurd\\AppData\\Local\\Temp\\ipykernel_44060\\1281283644.py:5: PerformanceWarning: DataFrame is highly fragmented.  This is usually the result of calling `frame.insert` many times, which has poor performance.  Consider joining all columns at once using pd.concat(axis=1) instead. To get a de-fragmented frame, use `newframe = frame.copy()`\n",
      "  test_df[f'{sensor}_cummean'] = test_df[sensor].expanding().mean()\n",
      "C:\\Users\\amurd\\AppData\\Local\\Temp\\ipykernel_44060\\1281283644.py:2: PerformanceWarning: DataFrame is highly fragmented.  This is usually the result of calling `frame.insert` many times, which has poor performance.  Consider joining all columns at once using pd.concat(axis=1) instead. To get a de-fragmented frame, use `newframe = frame.copy()`\n",
      "  train_df[f'{sensor}_cumsum'] = train_df[sensor].cumsum()\n",
      "C:\\Users\\amurd\\AppData\\Local\\Temp\\ipykernel_44060\\1281283644.py:3: PerformanceWarning: DataFrame is highly fragmented.  This is usually the result of calling `frame.insert` many times, which has poor performance.  Consider joining all columns at once using pd.concat(axis=1) instead. To get a de-fragmented frame, use `newframe = frame.copy()`\n",
      "  train_df[f'{sensor}_cummean'] = train_df[sensor].expanding().mean()\n",
      "C:\\Users\\amurd\\AppData\\Local\\Temp\\ipykernel_44060\\1281283644.py:4: PerformanceWarning: DataFrame is highly fragmented.  This is usually the result of calling `frame.insert` many times, which has poor performance.  Consider joining all columns at once using pd.concat(axis=1) instead. To get a de-fragmented frame, use `newframe = frame.copy()`\n",
      "  test_df[f'{sensor}_cumsum'] = test_df[sensor].cumsum()\n",
      "C:\\Users\\amurd\\AppData\\Local\\Temp\\ipykernel_44060\\1281283644.py:5: PerformanceWarning: DataFrame is highly fragmented.  This is usually the result of calling `frame.insert` many times, which has poor performance.  Consider joining all columns at once using pd.concat(axis=1) instead. To get a de-fragmented frame, use `newframe = frame.copy()`\n",
      "  test_df[f'{sensor}_cummean'] = test_df[sensor].expanding().mean()\n",
      "C:\\Users\\amurd\\AppData\\Local\\Temp\\ipykernel_44060\\1281283644.py:2: PerformanceWarning: DataFrame is highly fragmented.  This is usually the result of calling `frame.insert` many times, which has poor performance.  Consider joining all columns at once using pd.concat(axis=1) instead. To get a de-fragmented frame, use `newframe = frame.copy()`\n",
      "  train_df[f'{sensor}_cumsum'] = train_df[sensor].cumsum()\n",
      "C:\\Users\\amurd\\AppData\\Local\\Temp\\ipykernel_44060\\1281283644.py:3: PerformanceWarning: DataFrame is highly fragmented.  This is usually the result of calling `frame.insert` many times, which has poor performance.  Consider joining all columns at once using pd.concat(axis=1) instead. To get a de-fragmented frame, use `newframe = frame.copy()`\n",
      "  train_df[f'{sensor}_cummean'] = train_df[sensor].expanding().mean()\n",
      "C:\\Users\\amurd\\AppData\\Local\\Temp\\ipykernel_44060\\1281283644.py:4: PerformanceWarning: DataFrame is highly fragmented.  This is usually the result of calling `frame.insert` many times, which has poor performance.  Consider joining all columns at once using pd.concat(axis=1) instead. To get a de-fragmented frame, use `newframe = frame.copy()`\n",
      "  test_df[f'{sensor}_cumsum'] = test_df[sensor].cumsum()\n",
      "C:\\Users\\amurd\\AppData\\Local\\Temp\\ipykernel_44060\\1281283644.py:5: PerformanceWarning: DataFrame is highly fragmented.  This is usually the result of calling `frame.insert` many times, which has poor performance.  Consider joining all columns at once using pd.concat(axis=1) instead. To get a de-fragmented frame, use `newframe = frame.copy()`\n",
      "  test_df[f'{sensor}_cummean'] = test_df[sensor].expanding().mean()\n",
      "C:\\Users\\amurd\\AppData\\Local\\Temp\\ipykernel_44060\\1281283644.py:2: PerformanceWarning: DataFrame is highly fragmented.  This is usually the result of calling `frame.insert` many times, which has poor performance.  Consider joining all columns at once using pd.concat(axis=1) instead. To get a de-fragmented frame, use `newframe = frame.copy()`\n",
      "  train_df[f'{sensor}_cumsum'] = train_df[sensor].cumsum()\n",
      "C:\\Users\\amurd\\AppData\\Local\\Temp\\ipykernel_44060\\1281283644.py:3: PerformanceWarning: DataFrame is highly fragmented.  This is usually the result of calling `frame.insert` many times, which has poor performance.  Consider joining all columns at once using pd.concat(axis=1) instead. To get a de-fragmented frame, use `newframe = frame.copy()`\n",
      "  train_df[f'{sensor}_cummean'] = train_df[sensor].expanding().mean()\n",
      "C:\\Users\\amurd\\AppData\\Local\\Temp\\ipykernel_44060\\1281283644.py:4: PerformanceWarning: DataFrame is highly fragmented.  This is usually the result of calling `frame.insert` many times, which has poor performance.  Consider joining all columns at once using pd.concat(axis=1) instead. To get a de-fragmented frame, use `newframe = frame.copy()`\n",
      "  test_df[f'{sensor}_cumsum'] = test_df[sensor].cumsum()\n",
      "C:\\Users\\amurd\\AppData\\Local\\Temp\\ipykernel_44060\\1281283644.py:5: PerformanceWarning: DataFrame is highly fragmented.  This is usually the result of calling `frame.insert` many times, which has poor performance.  Consider joining all columns at once using pd.concat(axis=1) instead. To get a de-fragmented frame, use `newframe = frame.copy()`\n",
      "  test_df[f'{sensor}_cummean'] = test_df[sensor].expanding().mean()\n"
     ]
    }
   ],
   "source": [
    "for sensor in [f'sensor_{i}' for i in range(1, 22)]:\n",
    "    train_df[f'{sensor}_cumsum'] = train_df[sensor].cumsum()\n",
    "    train_df[f'{sensor}_cummean'] = train_df[sensor].expanding().mean()\n",
    "    test_df[f'{sensor}_cumsum'] = test_df[sensor].cumsum()\n",
    "    test_df[f'{sensor}_cummean'] = test_df[sensor].expanding().mean()"
   ]
  },
  {
   "cell_type": "markdown",
   "metadata": {},
   "source": [
    "Check the first few rows to ensure the cumulative features have been added"
   ]
  },
  {
   "cell_type": "code",
   "execution_count": 22,
   "metadata": {},
   "outputs": [
    {
     "data": {
      "application/vnd.microsoft.datawrangler.viewer.v0+json": {
       "columns": [
        {
         "name": "index",
         "rawType": "int64",
         "type": "integer"
        },
        {
         "name": "engine_id",
         "rawType": "int64",
         "type": "integer"
        },
        {
         "name": "time_in_cycles",
         "rawType": "int64",
         "type": "integer"
        },
        {
         "name": "sensor_2",
         "rawType": "float64",
         "type": "float"
        },
        {
         "name": "sensor_2_cumsum",
         "rawType": "float64",
         "type": "float"
        },
        {
         "name": "sensor_2_cummean",
         "rawType": "float64",
         "type": "float"
        }
       ],
       "conversionMethod": "pd.DataFrame",
       "ref": "9afffe4a-8521-4769-8f6f-29859422cac7",
       "rows": [
        [
         "5",
         "1",
         "6",
         "642.1",
         "642.1",
         "642.1"
        ],
        [
         "6",
         "1",
         "7",
         "642.48",
         "1284.58",
         "642.29"
        ],
        [
         "7",
         "1",
         "8",
         "642.56",
         "1927.1399999999999",
         "642.38"
        ],
        [
         "8",
         "1",
         "9",
         "642.12",
         "2569.2599999999998",
         "642.315"
        ],
        [
         "9",
         "1",
         "10",
         "641.71",
         "3210.97",
         "642.1940000000001"
        ]
       ],
       "shape": {
        "columns": 5,
        "rows": 5
       }
      },
      "text/html": [
       "<div>\n",
       "<style scoped>\n",
       "    .dataframe tbody tr th:only-of-type {\n",
       "        vertical-align: middle;\n",
       "    }\n",
       "\n",
       "    .dataframe tbody tr th {\n",
       "        vertical-align: top;\n",
       "    }\n",
       "\n",
       "    .dataframe thead th {\n",
       "        text-align: right;\n",
       "    }\n",
       "</style>\n",
       "<table border=\"1\" class=\"dataframe\">\n",
       "  <thead>\n",
       "    <tr style=\"text-align: right;\">\n",
       "      <th></th>\n",
       "      <th>engine_id</th>\n",
       "      <th>time_in_cycles</th>\n",
       "      <th>sensor_2</th>\n",
       "      <th>sensor_2_cumsum</th>\n",
       "      <th>sensor_2_cummean</th>\n",
       "    </tr>\n",
       "  </thead>\n",
       "  <tbody>\n",
       "    <tr>\n",
       "      <th>5</th>\n",
       "      <td>1</td>\n",
       "      <td>6</td>\n",
       "      <td>642.10</td>\n",
       "      <td>642.10</td>\n",
       "      <td>642.100</td>\n",
       "    </tr>\n",
       "    <tr>\n",
       "      <th>6</th>\n",
       "      <td>1</td>\n",
       "      <td>7</td>\n",
       "      <td>642.48</td>\n",
       "      <td>1284.58</td>\n",
       "      <td>642.290</td>\n",
       "    </tr>\n",
       "    <tr>\n",
       "      <th>7</th>\n",
       "      <td>1</td>\n",
       "      <td>8</td>\n",
       "      <td>642.56</td>\n",
       "      <td>1927.14</td>\n",
       "      <td>642.380</td>\n",
       "    </tr>\n",
       "    <tr>\n",
       "      <th>8</th>\n",
       "      <td>1</td>\n",
       "      <td>9</td>\n",
       "      <td>642.12</td>\n",
       "      <td>2569.26</td>\n",
       "      <td>642.315</td>\n",
       "    </tr>\n",
       "    <tr>\n",
       "      <th>9</th>\n",
       "      <td>1</td>\n",
       "      <td>10</td>\n",
       "      <td>641.71</td>\n",
       "      <td>3210.97</td>\n",
       "      <td>642.194</td>\n",
       "    </tr>\n",
       "  </tbody>\n",
       "</table>\n",
       "</div>"
      ],
      "text/plain": [
       "   engine_id  time_in_cycles  sensor_2  sensor_2_cumsum  sensor_2_cummean\n",
       "5          1               6    642.10           642.10           642.100\n",
       "6          1               7    642.48          1284.58           642.290\n",
       "7          1               8    642.56          1927.14           642.380\n",
       "8          1               9    642.12          2569.26           642.315\n",
       "9          1              10    641.71          3210.97           642.194"
      ]
     },
     "execution_count": 22,
     "metadata": {},
     "output_type": "execute_result"
    }
   ],
   "source": [
    "train_df[['engine_id', 'time_in_cycles', 'sensor_2', 'sensor_2_cumsum', 'sensor_2_cummean']].head()"
   ]
  },
  {
   "cell_type": "markdown",
   "metadata": {},
   "source": [
    "## 2.4 Lag Features (Values from Previous Cycles)\n",
    "Create lag features that capture previous cycle values. Let's capture values from the previous cycle for each sensor."
   ]
  },
  {
   "cell_type": "code",
   "execution_count": 23,
   "metadata": {},
   "outputs": [
    {
     "name": "stderr",
     "output_type": "stream",
     "text": [
      "C:\\Users\\amurd\\AppData\\Local\\Temp\\ipykernel_44060\\3427809972.py:2: PerformanceWarning: DataFrame is highly fragmented.  This is usually the result of calling `frame.insert` many times, which has poor performance.  Consider joining all columns at once using pd.concat(axis=1) instead. To get a de-fragmented frame, use `newframe = frame.copy()`\n",
      "  train_df[f'{sensor}_lag_1'] = train_df.groupby('engine_id')[sensor].shift(1)\n",
      "C:\\Users\\amurd\\AppData\\Local\\Temp\\ipykernel_44060\\3427809972.py:3: PerformanceWarning: DataFrame is highly fragmented.  This is usually the result of calling `frame.insert` many times, which has poor performance.  Consider joining all columns at once using pd.concat(axis=1) instead. To get a de-fragmented frame, use `newframe = frame.copy()`\n",
      "  test_df[f'{sensor}_lag_1'] = test_df.groupby('engine_id')[sensor].shift(1)\n",
      "C:\\Users\\amurd\\AppData\\Local\\Temp\\ipykernel_44060\\3427809972.py:2: PerformanceWarning: DataFrame is highly fragmented.  This is usually the result of calling `frame.insert` many times, which has poor performance.  Consider joining all columns at once using pd.concat(axis=1) instead. To get a de-fragmented frame, use `newframe = frame.copy()`\n",
      "  train_df[f'{sensor}_lag_1'] = train_df.groupby('engine_id')[sensor].shift(1)\n",
      "C:\\Users\\amurd\\AppData\\Local\\Temp\\ipykernel_44060\\3427809972.py:3: PerformanceWarning: DataFrame is highly fragmented.  This is usually the result of calling `frame.insert` many times, which has poor performance.  Consider joining all columns at once using pd.concat(axis=1) instead. To get a de-fragmented frame, use `newframe = frame.copy()`\n",
      "  test_df[f'{sensor}_lag_1'] = test_df.groupby('engine_id')[sensor].shift(1)\n",
      "C:\\Users\\amurd\\AppData\\Local\\Temp\\ipykernel_44060\\3427809972.py:2: PerformanceWarning: DataFrame is highly fragmented.  This is usually the result of calling `frame.insert` many times, which has poor performance.  Consider joining all columns at once using pd.concat(axis=1) instead. To get a de-fragmented frame, use `newframe = frame.copy()`\n",
      "  train_df[f'{sensor}_lag_1'] = train_df.groupby('engine_id')[sensor].shift(1)\n",
      "C:\\Users\\amurd\\AppData\\Local\\Temp\\ipykernel_44060\\3427809972.py:3: PerformanceWarning: DataFrame is highly fragmented.  This is usually the result of calling `frame.insert` many times, which has poor performance.  Consider joining all columns at once using pd.concat(axis=1) instead. To get a de-fragmented frame, use `newframe = frame.copy()`\n",
      "  test_df[f'{sensor}_lag_1'] = test_df.groupby('engine_id')[sensor].shift(1)\n",
      "C:\\Users\\amurd\\AppData\\Local\\Temp\\ipykernel_44060\\3427809972.py:2: PerformanceWarning: DataFrame is highly fragmented.  This is usually the result of calling `frame.insert` many times, which has poor performance.  Consider joining all columns at once using pd.concat(axis=1) instead. To get a de-fragmented frame, use `newframe = frame.copy()`\n",
      "  train_df[f'{sensor}_lag_1'] = train_df.groupby('engine_id')[sensor].shift(1)\n",
      "C:\\Users\\amurd\\AppData\\Local\\Temp\\ipykernel_44060\\3427809972.py:3: PerformanceWarning: DataFrame is highly fragmented.  This is usually the result of calling `frame.insert` many times, which has poor performance.  Consider joining all columns at once using pd.concat(axis=1) instead. To get a de-fragmented frame, use `newframe = frame.copy()`\n",
      "  test_df[f'{sensor}_lag_1'] = test_df.groupby('engine_id')[sensor].shift(1)\n",
      "C:\\Users\\amurd\\AppData\\Local\\Temp\\ipykernel_44060\\3427809972.py:2: PerformanceWarning: DataFrame is highly fragmented.  This is usually the result of calling `frame.insert` many times, which has poor performance.  Consider joining all columns at once using pd.concat(axis=1) instead. To get a de-fragmented frame, use `newframe = frame.copy()`\n",
      "  train_df[f'{sensor}_lag_1'] = train_df.groupby('engine_id')[sensor].shift(1)\n",
      "C:\\Users\\amurd\\AppData\\Local\\Temp\\ipykernel_44060\\3427809972.py:3: PerformanceWarning: DataFrame is highly fragmented.  This is usually the result of calling `frame.insert` many times, which has poor performance.  Consider joining all columns at once using pd.concat(axis=1) instead. To get a de-fragmented frame, use `newframe = frame.copy()`\n",
      "  test_df[f'{sensor}_lag_1'] = test_df.groupby('engine_id')[sensor].shift(1)\n",
      "C:\\Users\\amurd\\AppData\\Local\\Temp\\ipykernel_44060\\3427809972.py:2: PerformanceWarning: DataFrame is highly fragmented.  This is usually the result of calling `frame.insert` many times, which has poor performance.  Consider joining all columns at once using pd.concat(axis=1) instead. To get a de-fragmented frame, use `newframe = frame.copy()`\n",
      "  train_df[f'{sensor}_lag_1'] = train_df.groupby('engine_id')[sensor].shift(1)\n",
      "C:\\Users\\amurd\\AppData\\Local\\Temp\\ipykernel_44060\\3427809972.py:3: PerformanceWarning: DataFrame is highly fragmented.  This is usually the result of calling `frame.insert` many times, which has poor performance.  Consider joining all columns at once using pd.concat(axis=1) instead. To get a de-fragmented frame, use `newframe = frame.copy()`\n",
      "  test_df[f'{sensor}_lag_1'] = test_df.groupby('engine_id')[sensor].shift(1)\n",
      "C:\\Users\\amurd\\AppData\\Local\\Temp\\ipykernel_44060\\3427809972.py:2: PerformanceWarning: DataFrame is highly fragmented.  This is usually the result of calling `frame.insert` many times, which has poor performance.  Consider joining all columns at once using pd.concat(axis=1) instead. To get a de-fragmented frame, use `newframe = frame.copy()`\n",
      "  train_df[f'{sensor}_lag_1'] = train_df.groupby('engine_id')[sensor].shift(1)\n",
      "C:\\Users\\amurd\\AppData\\Local\\Temp\\ipykernel_44060\\3427809972.py:3: PerformanceWarning: DataFrame is highly fragmented.  This is usually the result of calling `frame.insert` many times, which has poor performance.  Consider joining all columns at once using pd.concat(axis=1) instead. To get a de-fragmented frame, use `newframe = frame.copy()`\n",
      "  test_df[f'{sensor}_lag_1'] = test_df.groupby('engine_id')[sensor].shift(1)\n",
      "C:\\Users\\amurd\\AppData\\Local\\Temp\\ipykernel_44060\\3427809972.py:2: PerformanceWarning: DataFrame is highly fragmented.  This is usually the result of calling `frame.insert` many times, which has poor performance.  Consider joining all columns at once using pd.concat(axis=1) instead. To get a de-fragmented frame, use `newframe = frame.copy()`\n",
      "  train_df[f'{sensor}_lag_1'] = train_df.groupby('engine_id')[sensor].shift(1)\n",
      "C:\\Users\\amurd\\AppData\\Local\\Temp\\ipykernel_44060\\3427809972.py:3: PerformanceWarning: DataFrame is highly fragmented.  This is usually the result of calling `frame.insert` many times, which has poor performance.  Consider joining all columns at once using pd.concat(axis=1) instead. To get a de-fragmented frame, use `newframe = frame.copy()`\n",
      "  test_df[f'{sensor}_lag_1'] = test_df.groupby('engine_id')[sensor].shift(1)\n",
      "C:\\Users\\amurd\\AppData\\Local\\Temp\\ipykernel_44060\\3427809972.py:2: PerformanceWarning: DataFrame is highly fragmented.  This is usually the result of calling `frame.insert` many times, which has poor performance.  Consider joining all columns at once using pd.concat(axis=1) instead. To get a de-fragmented frame, use `newframe = frame.copy()`\n",
      "  train_df[f'{sensor}_lag_1'] = train_df.groupby('engine_id')[sensor].shift(1)\n",
      "C:\\Users\\amurd\\AppData\\Local\\Temp\\ipykernel_44060\\3427809972.py:3: PerformanceWarning: DataFrame is highly fragmented.  This is usually the result of calling `frame.insert` many times, which has poor performance.  Consider joining all columns at once using pd.concat(axis=1) instead. To get a de-fragmented frame, use `newframe = frame.copy()`\n",
      "  test_df[f'{sensor}_lag_1'] = test_df.groupby('engine_id')[sensor].shift(1)\n",
      "C:\\Users\\amurd\\AppData\\Local\\Temp\\ipykernel_44060\\3427809972.py:2: PerformanceWarning: DataFrame is highly fragmented.  This is usually the result of calling `frame.insert` many times, which has poor performance.  Consider joining all columns at once using pd.concat(axis=1) instead. To get a de-fragmented frame, use `newframe = frame.copy()`\n",
      "  train_df[f'{sensor}_lag_1'] = train_df.groupby('engine_id')[sensor].shift(1)\n",
      "C:\\Users\\amurd\\AppData\\Local\\Temp\\ipykernel_44060\\3427809972.py:3: PerformanceWarning: DataFrame is highly fragmented.  This is usually the result of calling `frame.insert` many times, which has poor performance.  Consider joining all columns at once using pd.concat(axis=1) instead. To get a de-fragmented frame, use `newframe = frame.copy()`\n",
      "  test_df[f'{sensor}_lag_1'] = test_df.groupby('engine_id')[sensor].shift(1)\n",
      "C:\\Users\\amurd\\AppData\\Local\\Temp\\ipykernel_44060\\3427809972.py:2: PerformanceWarning: DataFrame is highly fragmented.  This is usually the result of calling `frame.insert` many times, which has poor performance.  Consider joining all columns at once using pd.concat(axis=1) instead. To get a de-fragmented frame, use `newframe = frame.copy()`\n",
      "  train_df[f'{sensor}_lag_1'] = train_df.groupby('engine_id')[sensor].shift(1)\n",
      "C:\\Users\\amurd\\AppData\\Local\\Temp\\ipykernel_44060\\3427809972.py:3: PerformanceWarning: DataFrame is highly fragmented.  This is usually the result of calling `frame.insert` many times, which has poor performance.  Consider joining all columns at once using pd.concat(axis=1) instead. To get a de-fragmented frame, use `newframe = frame.copy()`\n",
      "  test_df[f'{sensor}_lag_1'] = test_df.groupby('engine_id')[sensor].shift(1)\n",
      "C:\\Users\\amurd\\AppData\\Local\\Temp\\ipykernel_44060\\3427809972.py:2: PerformanceWarning: DataFrame is highly fragmented.  This is usually the result of calling `frame.insert` many times, which has poor performance.  Consider joining all columns at once using pd.concat(axis=1) instead. To get a de-fragmented frame, use `newframe = frame.copy()`\n",
      "  train_df[f'{sensor}_lag_1'] = train_df.groupby('engine_id')[sensor].shift(1)\n",
      "C:\\Users\\amurd\\AppData\\Local\\Temp\\ipykernel_44060\\3427809972.py:3: PerformanceWarning: DataFrame is highly fragmented.  This is usually the result of calling `frame.insert` many times, which has poor performance.  Consider joining all columns at once using pd.concat(axis=1) instead. To get a de-fragmented frame, use `newframe = frame.copy()`\n",
      "  test_df[f'{sensor}_lag_1'] = test_df.groupby('engine_id')[sensor].shift(1)\n",
      "C:\\Users\\amurd\\AppData\\Local\\Temp\\ipykernel_44060\\3427809972.py:2: PerformanceWarning: DataFrame is highly fragmented.  This is usually the result of calling `frame.insert` many times, which has poor performance.  Consider joining all columns at once using pd.concat(axis=1) instead. To get a de-fragmented frame, use `newframe = frame.copy()`\n",
      "  train_df[f'{sensor}_lag_1'] = train_df.groupby('engine_id')[sensor].shift(1)\n",
      "C:\\Users\\amurd\\AppData\\Local\\Temp\\ipykernel_44060\\3427809972.py:3: PerformanceWarning: DataFrame is highly fragmented.  This is usually the result of calling `frame.insert` many times, which has poor performance.  Consider joining all columns at once using pd.concat(axis=1) instead. To get a de-fragmented frame, use `newframe = frame.copy()`\n",
      "  test_df[f'{sensor}_lag_1'] = test_df.groupby('engine_id')[sensor].shift(1)\n",
      "C:\\Users\\amurd\\AppData\\Local\\Temp\\ipykernel_44060\\3427809972.py:2: PerformanceWarning: DataFrame is highly fragmented.  This is usually the result of calling `frame.insert` many times, which has poor performance.  Consider joining all columns at once using pd.concat(axis=1) instead. To get a de-fragmented frame, use `newframe = frame.copy()`\n",
      "  train_df[f'{sensor}_lag_1'] = train_df.groupby('engine_id')[sensor].shift(1)\n",
      "C:\\Users\\amurd\\AppData\\Local\\Temp\\ipykernel_44060\\3427809972.py:3: PerformanceWarning: DataFrame is highly fragmented.  This is usually the result of calling `frame.insert` many times, which has poor performance.  Consider joining all columns at once using pd.concat(axis=1) instead. To get a de-fragmented frame, use `newframe = frame.copy()`\n",
      "  test_df[f'{sensor}_lag_1'] = test_df.groupby('engine_id')[sensor].shift(1)\n",
      "C:\\Users\\amurd\\AppData\\Local\\Temp\\ipykernel_44060\\3427809972.py:2: PerformanceWarning: DataFrame is highly fragmented.  This is usually the result of calling `frame.insert` many times, which has poor performance.  Consider joining all columns at once using pd.concat(axis=1) instead. To get a de-fragmented frame, use `newframe = frame.copy()`\n",
      "  train_df[f'{sensor}_lag_1'] = train_df.groupby('engine_id')[sensor].shift(1)\n",
      "C:\\Users\\amurd\\AppData\\Local\\Temp\\ipykernel_44060\\3427809972.py:3: PerformanceWarning: DataFrame is highly fragmented.  This is usually the result of calling `frame.insert` many times, which has poor performance.  Consider joining all columns at once using pd.concat(axis=1) instead. To get a de-fragmented frame, use `newframe = frame.copy()`\n",
      "  test_df[f'{sensor}_lag_1'] = test_df.groupby('engine_id')[sensor].shift(1)\n",
      "C:\\Users\\amurd\\AppData\\Local\\Temp\\ipykernel_44060\\3427809972.py:2: PerformanceWarning: DataFrame is highly fragmented.  This is usually the result of calling `frame.insert` many times, which has poor performance.  Consider joining all columns at once using pd.concat(axis=1) instead. To get a de-fragmented frame, use `newframe = frame.copy()`\n",
      "  train_df[f'{sensor}_lag_1'] = train_df.groupby('engine_id')[sensor].shift(1)\n",
      "C:\\Users\\amurd\\AppData\\Local\\Temp\\ipykernel_44060\\3427809972.py:3: PerformanceWarning: DataFrame is highly fragmented.  This is usually the result of calling `frame.insert` many times, which has poor performance.  Consider joining all columns at once using pd.concat(axis=1) instead. To get a de-fragmented frame, use `newframe = frame.copy()`\n",
      "  test_df[f'{sensor}_lag_1'] = test_df.groupby('engine_id')[sensor].shift(1)\n",
      "C:\\Users\\amurd\\AppData\\Local\\Temp\\ipykernel_44060\\3427809972.py:2: PerformanceWarning: DataFrame is highly fragmented.  This is usually the result of calling `frame.insert` many times, which has poor performance.  Consider joining all columns at once using pd.concat(axis=1) instead. To get a de-fragmented frame, use `newframe = frame.copy()`\n",
      "  train_df[f'{sensor}_lag_1'] = train_df.groupby('engine_id')[sensor].shift(1)\n",
      "C:\\Users\\amurd\\AppData\\Local\\Temp\\ipykernel_44060\\3427809972.py:3: PerformanceWarning: DataFrame is highly fragmented.  This is usually the result of calling `frame.insert` many times, which has poor performance.  Consider joining all columns at once using pd.concat(axis=1) instead. To get a de-fragmented frame, use `newframe = frame.copy()`\n",
      "  test_df[f'{sensor}_lag_1'] = test_df.groupby('engine_id')[sensor].shift(1)\n",
      "C:\\Users\\amurd\\AppData\\Local\\Temp\\ipykernel_44060\\3427809972.py:2: PerformanceWarning: DataFrame is highly fragmented.  This is usually the result of calling `frame.insert` many times, which has poor performance.  Consider joining all columns at once using pd.concat(axis=1) instead. To get a de-fragmented frame, use `newframe = frame.copy()`\n",
      "  train_df[f'{sensor}_lag_1'] = train_df.groupby('engine_id')[sensor].shift(1)\n",
      "C:\\Users\\amurd\\AppData\\Local\\Temp\\ipykernel_44060\\3427809972.py:3: PerformanceWarning: DataFrame is highly fragmented.  This is usually the result of calling `frame.insert` many times, which has poor performance.  Consider joining all columns at once using pd.concat(axis=1) instead. To get a de-fragmented frame, use `newframe = frame.copy()`\n",
      "  test_df[f'{sensor}_lag_1'] = test_df.groupby('engine_id')[sensor].shift(1)\n",
      "C:\\Users\\amurd\\AppData\\Local\\Temp\\ipykernel_44060\\3427809972.py:2: PerformanceWarning: DataFrame is highly fragmented.  This is usually the result of calling `frame.insert` many times, which has poor performance.  Consider joining all columns at once using pd.concat(axis=1) instead. To get a de-fragmented frame, use `newframe = frame.copy()`\n",
      "  train_df[f'{sensor}_lag_1'] = train_df.groupby('engine_id')[sensor].shift(1)\n",
      "C:\\Users\\amurd\\AppData\\Local\\Temp\\ipykernel_44060\\3427809972.py:3: PerformanceWarning: DataFrame is highly fragmented.  This is usually the result of calling `frame.insert` many times, which has poor performance.  Consider joining all columns at once using pd.concat(axis=1) instead. To get a de-fragmented frame, use `newframe = frame.copy()`\n",
      "  test_df[f'{sensor}_lag_1'] = test_df.groupby('engine_id')[sensor].shift(1)\n",
      "C:\\Users\\amurd\\AppData\\Local\\Temp\\ipykernel_44060\\3427809972.py:2: PerformanceWarning: DataFrame is highly fragmented.  This is usually the result of calling `frame.insert` many times, which has poor performance.  Consider joining all columns at once using pd.concat(axis=1) instead. To get a de-fragmented frame, use `newframe = frame.copy()`\n",
      "  train_df[f'{sensor}_lag_1'] = train_df.groupby('engine_id')[sensor].shift(1)\n",
      "C:\\Users\\amurd\\AppData\\Local\\Temp\\ipykernel_44060\\3427809972.py:3: PerformanceWarning: DataFrame is highly fragmented.  This is usually the result of calling `frame.insert` many times, which has poor performance.  Consider joining all columns at once using pd.concat(axis=1) instead. To get a de-fragmented frame, use `newframe = frame.copy()`\n",
      "  test_df[f'{sensor}_lag_1'] = test_df.groupby('engine_id')[sensor].shift(1)\n",
      "C:\\Users\\amurd\\AppData\\Local\\Temp\\ipykernel_44060\\3427809972.py:2: PerformanceWarning: DataFrame is highly fragmented.  This is usually the result of calling `frame.insert` many times, which has poor performance.  Consider joining all columns at once using pd.concat(axis=1) instead. To get a de-fragmented frame, use `newframe = frame.copy()`\n",
      "  train_df[f'{sensor}_lag_1'] = train_df.groupby('engine_id')[sensor].shift(1)\n",
      "C:\\Users\\amurd\\AppData\\Local\\Temp\\ipykernel_44060\\3427809972.py:3: PerformanceWarning: DataFrame is highly fragmented.  This is usually the result of calling `frame.insert` many times, which has poor performance.  Consider joining all columns at once using pd.concat(axis=1) instead. To get a de-fragmented frame, use `newframe = frame.copy()`\n",
      "  test_df[f'{sensor}_lag_1'] = test_df.groupby('engine_id')[sensor].shift(1)\n"
     ]
    }
   ],
   "source": [
    "for sensor in [f'sensor_{i}' for i in range(1, 22)]:\n",
    "    train_df[f'{sensor}_lag_1'] = train_df.groupby('engine_id')[sensor].shift(1)\n",
    "    test_df[f'{sensor}_lag_1'] = test_df.groupby('engine_id')[sensor].shift(1)"
   ]
  },
  {
   "cell_type": "markdown",
   "metadata": {},
   "source": [
    "Drop NaN values that result from the lag features"
   ]
  },
  {
   "cell_type": "code",
   "execution_count": 24,
   "metadata": {},
   "outputs": [],
   "source": [
    "train_df.dropna(inplace=True)\n",
    "test_df.dropna(inplace=True)"
   ]
  },
  {
   "cell_type": "markdown",
   "metadata": {},
   "source": [
    "Check the first few rows to ensure the lag features have been added"
   ]
  },
  {
   "cell_type": "code",
   "execution_count": 25,
   "metadata": {},
   "outputs": [
    {
     "data": {
      "application/vnd.microsoft.datawrangler.viewer.v0+json": {
       "columns": [
        {
         "name": "index",
         "rawType": "int64",
         "type": "integer"
        },
        {
         "name": "engine_id",
         "rawType": "int64",
         "type": "integer"
        },
        {
         "name": "time_in_cycles",
         "rawType": "int64",
         "type": "integer"
        },
        {
         "name": "sensor_2",
         "rawType": "float64",
         "type": "float"
        },
        {
         "name": "sensor_2_lag_1",
         "rawType": "float64",
         "type": "float"
        }
       ],
       "conversionMethod": "pd.DataFrame",
       "ref": "310c6ac9-0998-4894-8ba9-a89f134e7e2c",
       "rows": [
        [
         "6",
         "1",
         "7",
         "642.48",
         "642.1"
        ],
        [
         "7",
         "1",
         "8",
         "642.56",
         "642.48"
        ],
        [
         "8",
         "1",
         "9",
         "642.12",
         "642.56"
        ],
        [
         "9",
         "1",
         "10",
         "641.71",
         "642.12"
        ],
        [
         "10",
         "1",
         "11",
         "642.28",
         "641.71"
        ]
       ],
       "shape": {
        "columns": 4,
        "rows": 5
       }
      },
      "text/html": [
       "<div>\n",
       "<style scoped>\n",
       "    .dataframe tbody tr th:only-of-type {\n",
       "        vertical-align: middle;\n",
       "    }\n",
       "\n",
       "    .dataframe tbody tr th {\n",
       "        vertical-align: top;\n",
       "    }\n",
       "\n",
       "    .dataframe thead th {\n",
       "        text-align: right;\n",
       "    }\n",
       "</style>\n",
       "<table border=\"1\" class=\"dataframe\">\n",
       "  <thead>\n",
       "    <tr style=\"text-align: right;\">\n",
       "      <th></th>\n",
       "      <th>engine_id</th>\n",
       "      <th>time_in_cycles</th>\n",
       "      <th>sensor_2</th>\n",
       "      <th>sensor_2_lag_1</th>\n",
       "    </tr>\n",
       "  </thead>\n",
       "  <tbody>\n",
       "    <tr>\n",
       "      <th>6</th>\n",
       "      <td>1</td>\n",
       "      <td>7</td>\n",
       "      <td>642.48</td>\n",
       "      <td>642.10</td>\n",
       "    </tr>\n",
       "    <tr>\n",
       "      <th>7</th>\n",
       "      <td>1</td>\n",
       "      <td>8</td>\n",
       "      <td>642.56</td>\n",
       "      <td>642.48</td>\n",
       "    </tr>\n",
       "    <tr>\n",
       "      <th>8</th>\n",
       "      <td>1</td>\n",
       "      <td>9</td>\n",
       "      <td>642.12</td>\n",
       "      <td>642.56</td>\n",
       "    </tr>\n",
       "    <tr>\n",
       "      <th>9</th>\n",
       "      <td>1</td>\n",
       "      <td>10</td>\n",
       "      <td>641.71</td>\n",
       "      <td>642.12</td>\n",
       "    </tr>\n",
       "    <tr>\n",
       "      <th>10</th>\n",
       "      <td>1</td>\n",
       "      <td>11</td>\n",
       "      <td>642.28</td>\n",
       "      <td>641.71</td>\n",
       "    </tr>\n",
       "  </tbody>\n",
       "</table>\n",
       "</div>"
      ],
      "text/plain": [
       "    engine_id  time_in_cycles  sensor_2  sensor_2_lag_1\n",
       "6           1               7    642.48          642.10\n",
       "7           1               8    642.56          642.48\n",
       "8           1               9    642.12          642.56\n",
       "9           1              10    641.71          642.12\n",
       "10          1              11    642.28          641.71"
      ]
     },
     "execution_count": 25,
     "metadata": {},
     "output_type": "execute_result"
    }
   ],
   "source": [
    "train_df[['engine_id', 'time_in_cycles', 'sensor_2', 'sensor_2_lag_1']].head()"
   ]
  },
  {
   "cell_type": "markdown",
   "metadata": {},
   "source": [
    "## 2.5. Rolling Percentile (Additional transformation)\n",
    "Calculate rolling percentiles (e.g., 10th and 90th percentile) for each sensor."
   ]
  },
  {
   "cell_type": "code",
   "execution_count": 26,
   "metadata": {},
   "outputs": [
    {
     "name": "stderr",
     "output_type": "stream",
     "text": [
      "C:\\Users\\amurd\\AppData\\Local\\Temp\\ipykernel_44060\\2826385385.py:2: PerformanceWarning: DataFrame is highly fragmented.  This is usually the result of calling `frame.insert` many times, which has poor performance.  Consider joining all columns at once using pd.concat(axis=1) instead. To get a de-fragmented frame, use `newframe = frame.copy()`\n",
      "  train_df[f'{sensor}_rolling_10th'] = train_df[sensor].rolling(window=window_size).quantile(0.1)\n",
      "C:\\Users\\amurd\\AppData\\Local\\Temp\\ipykernel_44060\\2826385385.py:3: PerformanceWarning: DataFrame is highly fragmented.  This is usually the result of calling `frame.insert` many times, which has poor performance.  Consider joining all columns at once using pd.concat(axis=1) instead. To get a de-fragmented frame, use `newframe = frame.copy()`\n",
      "  train_df[f'{sensor}_rolling_90th'] = train_df[sensor].rolling(window=window_size).quantile(0.9)\n",
      "C:\\Users\\amurd\\AppData\\Local\\Temp\\ipykernel_44060\\2826385385.py:4: PerformanceWarning: DataFrame is highly fragmented.  This is usually the result of calling `frame.insert` many times, which has poor performance.  Consider joining all columns at once using pd.concat(axis=1) instead. To get a de-fragmented frame, use `newframe = frame.copy()`\n",
      "  test_df[f'{sensor}_rolling_10th'] = test_df[sensor].rolling(window=window_size).quantile(0.1)\n",
      "C:\\Users\\amurd\\AppData\\Local\\Temp\\ipykernel_44060\\2826385385.py:5: PerformanceWarning: DataFrame is highly fragmented.  This is usually the result of calling `frame.insert` many times, which has poor performance.  Consider joining all columns at once using pd.concat(axis=1) instead. To get a de-fragmented frame, use `newframe = frame.copy()`\n",
      "  test_df[f'{sensor}_rolling_90th'] = test_df[sensor].rolling(window=window_size).quantile(0.9)\n",
      "C:\\Users\\amurd\\AppData\\Local\\Temp\\ipykernel_44060\\2826385385.py:2: PerformanceWarning: DataFrame is highly fragmented.  This is usually the result of calling `frame.insert` many times, which has poor performance.  Consider joining all columns at once using pd.concat(axis=1) instead. To get a de-fragmented frame, use `newframe = frame.copy()`\n",
      "  train_df[f'{sensor}_rolling_10th'] = train_df[sensor].rolling(window=window_size).quantile(0.1)\n",
      "C:\\Users\\amurd\\AppData\\Local\\Temp\\ipykernel_44060\\2826385385.py:3: PerformanceWarning: DataFrame is highly fragmented.  This is usually the result of calling `frame.insert` many times, which has poor performance.  Consider joining all columns at once using pd.concat(axis=1) instead. To get a de-fragmented frame, use `newframe = frame.copy()`\n",
      "  train_df[f'{sensor}_rolling_90th'] = train_df[sensor].rolling(window=window_size).quantile(0.9)\n",
      "C:\\Users\\amurd\\AppData\\Local\\Temp\\ipykernel_44060\\2826385385.py:4: PerformanceWarning: DataFrame is highly fragmented.  This is usually the result of calling `frame.insert` many times, which has poor performance.  Consider joining all columns at once using pd.concat(axis=1) instead. To get a de-fragmented frame, use `newframe = frame.copy()`\n",
      "  test_df[f'{sensor}_rolling_10th'] = test_df[sensor].rolling(window=window_size).quantile(0.1)\n",
      "C:\\Users\\amurd\\AppData\\Local\\Temp\\ipykernel_44060\\2826385385.py:5: PerformanceWarning: DataFrame is highly fragmented.  This is usually the result of calling `frame.insert` many times, which has poor performance.  Consider joining all columns at once using pd.concat(axis=1) instead. To get a de-fragmented frame, use `newframe = frame.copy()`\n",
      "  test_df[f'{sensor}_rolling_90th'] = test_df[sensor].rolling(window=window_size).quantile(0.9)\n",
      "C:\\Users\\amurd\\AppData\\Local\\Temp\\ipykernel_44060\\2826385385.py:2: PerformanceWarning: DataFrame is highly fragmented.  This is usually the result of calling `frame.insert` many times, which has poor performance.  Consider joining all columns at once using pd.concat(axis=1) instead. To get a de-fragmented frame, use `newframe = frame.copy()`\n",
      "  train_df[f'{sensor}_rolling_10th'] = train_df[sensor].rolling(window=window_size).quantile(0.1)\n",
      "C:\\Users\\amurd\\AppData\\Local\\Temp\\ipykernel_44060\\2826385385.py:3: PerformanceWarning: DataFrame is highly fragmented.  This is usually the result of calling `frame.insert` many times, which has poor performance.  Consider joining all columns at once using pd.concat(axis=1) instead. To get a de-fragmented frame, use `newframe = frame.copy()`\n",
      "  train_df[f'{sensor}_rolling_90th'] = train_df[sensor].rolling(window=window_size).quantile(0.9)\n",
      "C:\\Users\\amurd\\AppData\\Local\\Temp\\ipykernel_44060\\2826385385.py:4: PerformanceWarning: DataFrame is highly fragmented.  This is usually the result of calling `frame.insert` many times, which has poor performance.  Consider joining all columns at once using pd.concat(axis=1) instead. To get a de-fragmented frame, use `newframe = frame.copy()`\n",
      "  test_df[f'{sensor}_rolling_10th'] = test_df[sensor].rolling(window=window_size).quantile(0.1)\n",
      "C:\\Users\\amurd\\AppData\\Local\\Temp\\ipykernel_44060\\2826385385.py:5: PerformanceWarning: DataFrame is highly fragmented.  This is usually the result of calling `frame.insert` many times, which has poor performance.  Consider joining all columns at once using pd.concat(axis=1) instead. To get a de-fragmented frame, use `newframe = frame.copy()`\n",
      "  test_df[f'{sensor}_rolling_90th'] = test_df[sensor].rolling(window=window_size).quantile(0.9)\n",
      "C:\\Users\\amurd\\AppData\\Local\\Temp\\ipykernel_44060\\2826385385.py:2: PerformanceWarning: DataFrame is highly fragmented.  This is usually the result of calling `frame.insert` many times, which has poor performance.  Consider joining all columns at once using pd.concat(axis=1) instead. To get a de-fragmented frame, use `newframe = frame.copy()`\n",
      "  train_df[f'{sensor}_rolling_10th'] = train_df[sensor].rolling(window=window_size).quantile(0.1)\n",
      "C:\\Users\\amurd\\AppData\\Local\\Temp\\ipykernel_44060\\2826385385.py:3: PerformanceWarning: DataFrame is highly fragmented.  This is usually the result of calling `frame.insert` many times, which has poor performance.  Consider joining all columns at once using pd.concat(axis=1) instead. To get a de-fragmented frame, use `newframe = frame.copy()`\n",
      "  train_df[f'{sensor}_rolling_90th'] = train_df[sensor].rolling(window=window_size).quantile(0.9)\n",
      "C:\\Users\\amurd\\AppData\\Local\\Temp\\ipykernel_44060\\2826385385.py:4: PerformanceWarning: DataFrame is highly fragmented.  This is usually the result of calling `frame.insert` many times, which has poor performance.  Consider joining all columns at once using pd.concat(axis=1) instead. To get a de-fragmented frame, use `newframe = frame.copy()`\n",
      "  test_df[f'{sensor}_rolling_10th'] = test_df[sensor].rolling(window=window_size).quantile(0.1)\n",
      "C:\\Users\\amurd\\AppData\\Local\\Temp\\ipykernel_44060\\2826385385.py:5: PerformanceWarning: DataFrame is highly fragmented.  This is usually the result of calling `frame.insert` many times, which has poor performance.  Consider joining all columns at once using pd.concat(axis=1) instead. To get a de-fragmented frame, use `newframe = frame.copy()`\n",
      "  test_df[f'{sensor}_rolling_90th'] = test_df[sensor].rolling(window=window_size).quantile(0.9)\n",
      "C:\\Users\\amurd\\AppData\\Local\\Temp\\ipykernel_44060\\2826385385.py:2: PerformanceWarning: DataFrame is highly fragmented.  This is usually the result of calling `frame.insert` many times, which has poor performance.  Consider joining all columns at once using pd.concat(axis=1) instead. To get a de-fragmented frame, use `newframe = frame.copy()`\n",
      "  train_df[f'{sensor}_rolling_10th'] = train_df[sensor].rolling(window=window_size).quantile(0.1)\n",
      "C:\\Users\\amurd\\AppData\\Local\\Temp\\ipykernel_44060\\2826385385.py:3: PerformanceWarning: DataFrame is highly fragmented.  This is usually the result of calling `frame.insert` many times, which has poor performance.  Consider joining all columns at once using pd.concat(axis=1) instead. To get a de-fragmented frame, use `newframe = frame.copy()`\n",
      "  train_df[f'{sensor}_rolling_90th'] = train_df[sensor].rolling(window=window_size).quantile(0.9)\n",
      "C:\\Users\\amurd\\AppData\\Local\\Temp\\ipykernel_44060\\2826385385.py:4: PerformanceWarning: DataFrame is highly fragmented.  This is usually the result of calling `frame.insert` many times, which has poor performance.  Consider joining all columns at once using pd.concat(axis=1) instead. To get a de-fragmented frame, use `newframe = frame.copy()`\n",
      "  test_df[f'{sensor}_rolling_10th'] = test_df[sensor].rolling(window=window_size).quantile(0.1)\n",
      "C:\\Users\\amurd\\AppData\\Local\\Temp\\ipykernel_44060\\2826385385.py:5: PerformanceWarning: DataFrame is highly fragmented.  This is usually the result of calling `frame.insert` many times, which has poor performance.  Consider joining all columns at once using pd.concat(axis=1) instead. To get a de-fragmented frame, use `newframe = frame.copy()`\n",
      "  test_df[f'{sensor}_rolling_90th'] = test_df[sensor].rolling(window=window_size).quantile(0.9)\n",
      "C:\\Users\\amurd\\AppData\\Local\\Temp\\ipykernel_44060\\2826385385.py:2: PerformanceWarning: DataFrame is highly fragmented.  This is usually the result of calling `frame.insert` many times, which has poor performance.  Consider joining all columns at once using pd.concat(axis=1) instead. To get a de-fragmented frame, use `newframe = frame.copy()`\n",
      "  train_df[f'{sensor}_rolling_10th'] = train_df[sensor].rolling(window=window_size).quantile(0.1)\n",
      "C:\\Users\\amurd\\AppData\\Local\\Temp\\ipykernel_44060\\2826385385.py:3: PerformanceWarning: DataFrame is highly fragmented.  This is usually the result of calling `frame.insert` many times, which has poor performance.  Consider joining all columns at once using pd.concat(axis=1) instead. To get a de-fragmented frame, use `newframe = frame.copy()`\n",
      "  train_df[f'{sensor}_rolling_90th'] = train_df[sensor].rolling(window=window_size).quantile(0.9)\n",
      "C:\\Users\\amurd\\AppData\\Local\\Temp\\ipykernel_44060\\2826385385.py:4: PerformanceWarning: DataFrame is highly fragmented.  This is usually the result of calling `frame.insert` many times, which has poor performance.  Consider joining all columns at once using pd.concat(axis=1) instead. To get a de-fragmented frame, use `newframe = frame.copy()`\n",
      "  test_df[f'{sensor}_rolling_10th'] = test_df[sensor].rolling(window=window_size).quantile(0.1)\n",
      "C:\\Users\\amurd\\AppData\\Local\\Temp\\ipykernel_44060\\2826385385.py:5: PerformanceWarning: DataFrame is highly fragmented.  This is usually the result of calling `frame.insert` many times, which has poor performance.  Consider joining all columns at once using pd.concat(axis=1) instead. To get a de-fragmented frame, use `newframe = frame.copy()`\n",
      "  test_df[f'{sensor}_rolling_90th'] = test_df[sensor].rolling(window=window_size).quantile(0.9)\n",
      "C:\\Users\\amurd\\AppData\\Local\\Temp\\ipykernel_44060\\2826385385.py:2: PerformanceWarning: DataFrame is highly fragmented.  This is usually the result of calling `frame.insert` many times, which has poor performance.  Consider joining all columns at once using pd.concat(axis=1) instead. To get a de-fragmented frame, use `newframe = frame.copy()`\n",
      "  train_df[f'{sensor}_rolling_10th'] = train_df[sensor].rolling(window=window_size).quantile(0.1)\n",
      "C:\\Users\\amurd\\AppData\\Local\\Temp\\ipykernel_44060\\2826385385.py:3: PerformanceWarning: DataFrame is highly fragmented.  This is usually the result of calling `frame.insert` many times, which has poor performance.  Consider joining all columns at once using pd.concat(axis=1) instead. To get a de-fragmented frame, use `newframe = frame.copy()`\n",
      "  train_df[f'{sensor}_rolling_90th'] = train_df[sensor].rolling(window=window_size).quantile(0.9)\n",
      "C:\\Users\\amurd\\AppData\\Local\\Temp\\ipykernel_44060\\2826385385.py:4: PerformanceWarning: DataFrame is highly fragmented.  This is usually the result of calling `frame.insert` many times, which has poor performance.  Consider joining all columns at once using pd.concat(axis=1) instead. To get a de-fragmented frame, use `newframe = frame.copy()`\n",
      "  test_df[f'{sensor}_rolling_10th'] = test_df[sensor].rolling(window=window_size).quantile(0.1)\n",
      "C:\\Users\\amurd\\AppData\\Local\\Temp\\ipykernel_44060\\2826385385.py:5: PerformanceWarning: DataFrame is highly fragmented.  This is usually the result of calling `frame.insert` many times, which has poor performance.  Consider joining all columns at once using pd.concat(axis=1) instead. To get a de-fragmented frame, use `newframe = frame.copy()`\n",
      "  test_df[f'{sensor}_rolling_90th'] = test_df[sensor].rolling(window=window_size).quantile(0.9)\n",
      "C:\\Users\\amurd\\AppData\\Local\\Temp\\ipykernel_44060\\2826385385.py:2: PerformanceWarning: DataFrame is highly fragmented.  This is usually the result of calling `frame.insert` many times, which has poor performance.  Consider joining all columns at once using pd.concat(axis=1) instead. To get a de-fragmented frame, use `newframe = frame.copy()`\n",
      "  train_df[f'{sensor}_rolling_10th'] = train_df[sensor].rolling(window=window_size).quantile(0.1)\n",
      "C:\\Users\\amurd\\AppData\\Local\\Temp\\ipykernel_44060\\2826385385.py:3: PerformanceWarning: DataFrame is highly fragmented.  This is usually the result of calling `frame.insert` many times, which has poor performance.  Consider joining all columns at once using pd.concat(axis=1) instead. To get a de-fragmented frame, use `newframe = frame.copy()`\n",
      "  train_df[f'{sensor}_rolling_90th'] = train_df[sensor].rolling(window=window_size).quantile(0.9)\n",
      "C:\\Users\\amurd\\AppData\\Local\\Temp\\ipykernel_44060\\2826385385.py:4: PerformanceWarning: DataFrame is highly fragmented.  This is usually the result of calling `frame.insert` many times, which has poor performance.  Consider joining all columns at once using pd.concat(axis=1) instead. To get a de-fragmented frame, use `newframe = frame.copy()`\n",
      "  test_df[f'{sensor}_rolling_10th'] = test_df[sensor].rolling(window=window_size).quantile(0.1)\n",
      "C:\\Users\\amurd\\AppData\\Local\\Temp\\ipykernel_44060\\2826385385.py:5: PerformanceWarning: DataFrame is highly fragmented.  This is usually the result of calling `frame.insert` many times, which has poor performance.  Consider joining all columns at once using pd.concat(axis=1) instead. To get a de-fragmented frame, use `newframe = frame.copy()`\n",
      "  test_df[f'{sensor}_rolling_90th'] = test_df[sensor].rolling(window=window_size).quantile(0.9)\n",
      "C:\\Users\\amurd\\AppData\\Local\\Temp\\ipykernel_44060\\2826385385.py:2: PerformanceWarning: DataFrame is highly fragmented.  This is usually the result of calling `frame.insert` many times, which has poor performance.  Consider joining all columns at once using pd.concat(axis=1) instead. To get a de-fragmented frame, use `newframe = frame.copy()`\n",
      "  train_df[f'{sensor}_rolling_10th'] = train_df[sensor].rolling(window=window_size).quantile(0.1)\n",
      "C:\\Users\\amurd\\AppData\\Local\\Temp\\ipykernel_44060\\2826385385.py:3: PerformanceWarning: DataFrame is highly fragmented.  This is usually the result of calling `frame.insert` many times, which has poor performance.  Consider joining all columns at once using pd.concat(axis=1) instead. To get a de-fragmented frame, use `newframe = frame.copy()`\n",
      "  train_df[f'{sensor}_rolling_90th'] = train_df[sensor].rolling(window=window_size).quantile(0.9)\n",
      "C:\\Users\\amurd\\AppData\\Local\\Temp\\ipykernel_44060\\2826385385.py:4: PerformanceWarning: DataFrame is highly fragmented.  This is usually the result of calling `frame.insert` many times, which has poor performance.  Consider joining all columns at once using pd.concat(axis=1) instead. To get a de-fragmented frame, use `newframe = frame.copy()`\n",
      "  test_df[f'{sensor}_rolling_10th'] = test_df[sensor].rolling(window=window_size).quantile(0.1)\n",
      "C:\\Users\\amurd\\AppData\\Local\\Temp\\ipykernel_44060\\2826385385.py:5: PerformanceWarning: DataFrame is highly fragmented.  This is usually the result of calling `frame.insert` many times, which has poor performance.  Consider joining all columns at once using pd.concat(axis=1) instead. To get a de-fragmented frame, use `newframe = frame.copy()`\n",
      "  test_df[f'{sensor}_rolling_90th'] = test_df[sensor].rolling(window=window_size).quantile(0.9)\n",
      "C:\\Users\\amurd\\AppData\\Local\\Temp\\ipykernel_44060\\2826385385.py:2: PerformanceWarning: DataFrame is highly fragmented.  This is usually the result of calling `frame.insert` many times, which has poor performance.  Consider joining all columns at once using pd.concat(axis=1) instead. To get a de-fragmented frame, use `newframe = frame.copy()`\n",
      "  train_df[f'{sensor}_rolling_10th'] = train_df[sensor].rolling(window=window_size).quantile(0.1)\n",
      "C:\\Users\\amurd\\AppData\\Local\\Temp\\ipykernel_44060\\2826385385.py:3: PerformanceWarning: DataFrame is highly fragmented.  This is usually the result of calling `frame.insert` many times, which has poor performance.  Consider joining all columns at once using pd.concat(axis=1) instead. To get a de-fragmented frame, use `newframe = frame.copy()`\n",
      "  train_df[f'{sensor}_rolling_90th'] = train_df[sensor].rolling(window=window_size).quantile(0.9)\n",
      "C:\\Users\\amurd\\AppData\\Local\\Temp\\ipykernel_44060\\2826385385.py:4: PerformanceWarning: DataFrame is highly fragmented.  This is usually the result of calling `frame.insert` many times, which has poor performance.  Consider joining all columns at once using pd.concat(axis=1) instead. To get a de-fragmented frame, use `newframe = frame.copy()`\n",
      "  test_df[f'{sensor}_rolling_10th'] = test_df[sensor].rolling(window=window_size).quantile(0.1)\n",
      "C:\\Users\\amurd\\AppData\\Local\\Temp\\ipykernel_44060\\2826385385.py:5: PerformanceWarning: DataFrame is highly fragmented.  This is usually the result of calling `frame.insert` many times, which has poor performance.  Consider joining all columns at once using pd.concat(axis=1) instead. To get a de-fragmented frame, use `newframe = frame.copy()`\n",
      "  test_df[f'{sensor}_rolling_90th'] = test_df[sensor].rolling(window=window_size).quantile(0.9)\n",
      "C:\\Users\\amurd\\AppData\\Local\\Temp\\ipykernel_44060\\2826385385.py:2: PerformanceWarning: DataFrame is highly fragmented.  This is usually the result of calling `frame.insert` many times, which has poor performance.  Consider joining all columns at once using pd.concat(axis=1) instead. To get a de-fragmented frame, use `newframe = frame.copy()`\n",
      "  train_df[f'{sensor}_rolling_10th'] = train_df[sensor].rolling(window=window_size).quantile(0.1)\n",
      "C:\\Users\\amurd\\AppData\\Local\\Temp\\ipykernel_44060\\2826385385.py:3: PerformanceWarning: DataFrame is highly fragmented.  This is usually the result of calling `frame.insert` many times, which has poor performance.  Consider joining all columns at once using pd.concat(axis=1) instead. To get a de-fragmented frame, use `newframe = frame.copy()`\n",
      "  train_df[f'{sensor}_rolling_90th'] = train_df[sensor].rolling(window=window_size).quantile(0.9)\n",
      "C:\\Users\\amurd\\AppData\\Local\\Temp\\ipykernel_44060\\2826385385.py:4: PerformanceWarning: DataFrame is highly fragmented.  This is usually the result of calling `frame.insert` many times, which has poor performance.  Consider joining all columns at once using pd.concat(axis=1) instead. To get a de-fragmented frame, use `newframe = frame.copy()`\n",
      "  test_df[f'{sensor}_rolling_10th'] = test_df[sensor].rolling(window=window_size).quantile(0.1)\n",
      "C:\\Users\\amurd\\AppData\\Local\\Temp\\ipykernel_44060\\2826385385.py:5: PerformanceWarning: DataFrame is highly fragmented.  This is usually the result of calling `frame.insert` many times, which has poor performance.  Consider joining all columns at once using pd.concat(axis=1) instead. To get a de-fragmented frame, use `newframe = frame.copy()`\n",
      "  test_df[f'{sensor}_rolling_90th'] = test_df[sensor].rolling(window=window_size).quantile(0.9)\n",
      "C:\\Users\\amurd\\AppData\\Local\\Temp\\ipykernel_44060\\2826385385.py:2: PerformanceWarning: DataFrame is highly fragmented.  This is usually the result of calling `frame.insert` many times, which has poor performance.  Consider joining all columns at once using pd.concat(axis=1) instead. To get a de-fragmented frame, use `newframe = frame.copy()`\n",
      "  train_df[f'{sensor}_rolling_10th'] = train_df[sensor].rolling(window=window_size).quantile(0.1)\n",
      "C:\\Users\\amurd\\AppData\\Local\\Temp\\ipykernel_44060\\2826385385.py:3: PerformanceWarning: DataFrame is highly fragmented.  This is usually the result of calling `frame.insert` many times, which has poor performance.  Consider joining all columns at once using pd.concat(axis=1) instead. To get a de-fragmented frame, use `newframe = frame.copy()`\n",
      "  train_df[f'{sensor}_rolling_90th'] = train_df[sensor].rolling(window=window_size).quantile(0.9)\n",
      "C:\\Users\\amurd\\AppData\\Local\\Temp\\ipykernel_44060\\2826385385.py:4: PerformanceWarning: DataFrame is highly fragmented.  This is usually the result of calling `frame.insert` many times, which has poor performance.  Consider joining all columns at once using pd.concat(axis=1) instead. To get a de-fragmented frame, use `newframe = frame.copy()`\n",
      "  test_df[f'{sensor}_rolling_10th'] = test_df[sensor].rolling(window=window_size).quantile(0.1)\n",
      "C:\\Users\\amurd\\AppData\\Local\\Temp\\ipykernel_44060\\2826385385.py:5: PerformanceWarning: DataFrame is highly fragmented.  This is usually the result of calling `frame.insert` many times, which has poor performance.  Consider joining all columns at once using pd.concat(axis=1) instead. To get a de-fragmented frame, use `newframe = frame.copy()`\n",
      "  test_df[f'{sensor}_rolling_90th'] = test_df[sensor].rolling(window=window_size).quantile(0.9)\n",
      "C:\\Users\\amurd\\AppData\\Local\\Temp\\ipykernel_44060\\2826385385.py:2: PerformanceWarning: DataFrame is highly fragmented.  This is usually the result of calling `frame.insert` many times, which has poor performance.  Consider joining all columns at once using pd.concat(axis=1) instead. To get a de-fragmented frame, use `newframe = frame.copy()`\n",
      "  train_df[f'{sensor}_rolling_10th'] = train_df[sensor].rolling(window=window_size).quantile(0.1)\n",
      "C:\\Users\\amurd\\AppData\\Local\\Temp\\ipykernel_44060\\2826385385.py:3: PerformanceWarning: DataFrame is highly fragmented.  This is usually the result of calling `frame.insert` many times, which has poor performance.  Consider joining all columns at once using pd.concat(axis=1) instead. To get a de-fragmented frame, use `newframe = frame.copy()`\n",
      "  train_df[f'{sensor}_rolling_90th'] = train_df[sensor].rolling(window=window_size).quantile(0.9)\n",
      "C:\\Users\\amurd\\AppData\\Local\\Temp\\ipykernel_44060\\2826385385.py:4: PerformanceWarning: DataFrame is highly fragmented.  This is usually the result of calling `frame.insert` many times, which has poor performance.  Consider joining all columns at once using pd.concat(axis=1) instead. To get a de-fragmented frame, use `newframe = frame.copy()`\n",
      "  test_df[f'{sensor}_rolling_10th'] = test_df[sensor].rolling(window=window_size).quantile(0.1)\n",
      "C:\\Users\\amurd\\AppData\\Local\\Temp\\ipykernel_44060\\2826385385.py:5: PerformanceWarning: DataFrame is highly fragmented.  This is usually the result of calling `frame.insert` many times, which has poor performance.  Consider joining all columns at once using pd.concat(axis=1) instead. To get a de-fragmented frame, use `newframe = frame.copy()`\n",
      "  test_df[f'{sensor}_rolling_90th'] = test_df[sensor].rolling(window=window_size).quantile(0.9)\n",
      "C:\\Users\\amurd\\AppData\\Local\\Temp\\ipykernel_44060\\2826385385.py:2: PerformanceWarning: DataFrame is highly fragmented.  This is usually the result of calling `frame.insert` many times, which has poor performance.  Consider joining all columns at once using pd.concat(axis=1) instead. To get a de-fragmented frame, use `newframe = frame.copy()`\n",
      "  train_df[f'{sensor}_rolling_10th'] = train_df[sensor].rolling(window=window_size).quantile(0.1)\n",
      "C:\\Users\\amurd\\AppData\\Local\\Temp\\ipykernel_44060\\2826385385.py:3: PerformanceWarning: DataFrame is highly fragmented.  This is usually the result of calling `frame.insert` many times, which has poor performance.  Consider joining all columns at once using pd.concat(axis=1) instead. To get a de-fragmented frame, use `newframe = frame.copy()`\n",
      "  train_df[f'{sensor}_rolling_90th'] = train_df[sensor].rolling(window=window_size).quantile(0.9)\n",
      "C:\\Users\\amurd\\AppData\\Local\\Temp\\ipykernel_44060\\2826385385.py:4: PerformanceWarning: DataFrame is highly fragmented.  This is usually the result of calling `frame.insert` many times, which has poor performance.  Consider joining all columns at once using pd.concat(axis=1) instead. To get a de-fragmented frame, use `newframe = frame.copy()`\n",
      "  test_df[f'{sensor}_rolling_10th'] = test_df[sensor].rolling(window=window_size).quantile(0.1)\n",
      "C:\\Users\\amurd\\AppData\\Local\\Temp\\ipykernel_44060\\2826385385.py:5: PerformanceWarning: DataFrame is highly fragmented.  This is usually the result of calling `frame.insert` many times, which has poor performance.  Consider joining all columns at once using pd.concat(axis=1) instead. To get a de-fragmented frame, use `newframe = frame.copy()`\n",
      "  test_df[f'{sensor}_rolling_90th'] = test_df[sensor].rolling(window=window_size).quantile(0.9)\n",
      "C:\\Users\\amurd\\AppData\\Local\\Temp\\ipykernel_44060\\2826385385.py:2: PerformanceWarning: DataFrame is highly fragmented.  This is usually the result of calling `frame.insert` many times, which has poor performance.  Consider joining all columns at once using pd.concat(axis=1) instead. To get a de-fragmented frame, use `newframe = frame.copy()`\n",
      "  train_df[f'{sensor}_rolling_10th'] = train_df[sensor].rolling(window=window_size).quantile(0.1)\n",
      "C:\\Users\\amurd\\AppData\\Local\\Temp\\ipykernel_44060\\2826385385.py:3: PerformanceWarning: DataFrame is highly fragmented.  This is usually the result of calling `frame.insert` many times, which has poor performance.  Consider joining all columns at once using pd.concat(axis=1) instead. To get a de-fragmented frame, use `newframe = frame.copy()`\n",
      "  train_df[f'{sensor}_rolling_90th'] = train_df[sensor].rolling(window=window_size).quantile(0.9)\n",
      "C:\\Users\\amurd\\AppData\\Local\\Temp\\ipykernel_44060\\2826385385.py:4: PerformanceWarning: DataFrame is highly fragmented.  This is usually the result of calling `frame.insert` many times, which has poor performance.  Consider joining all columns at once using pd.concat(axis=1) instead. To get a de-fragmented frame, use `newframe = frame.copy()`\n",
      "  test_df[f'{sensor}_rolling_10th'] = test_df[sensor].rolling(window=window_size).quantile(0.1)\n",
      "C:\\Users\\amurd\\AppData\\Local\\Temp\\ipykernel_44060\\2826385385.py:5: PerformanceWarning: DataFrame is highly fragmented.  This is usually the result of calling `frame.insert` many times, which has poor performance.  Consider joining all columns at once using pd.concat(axis=1) instead. To get a de-fragmented frame, use `newframe = frame.copy()`\n",
      "  test_df[f'{sensor}_rolling_90th'] = test_df[sensor].rolling(window=window_size).quantile(0.9)\n",
      "C:\\Users\\amurd\\AppData\\Local\\Temp\\ipykernel_44060\\2826385385.py:2: PerformanceWarning: DataFrame is highly fragmented.  This is usually the result of calling `frame.insert` many times, which has poor performance.  Consider joining all columns at once using pd.concat(axis=1) instead. To get a de-fragmented frame, use `newframe = frame.copy()`\n",
      "  train_df[f'{sensor}_rolling_10th'] = train_df[sensor].rolling(window=window_size).quantile(0.1)\n",
      "C:\\Users\\amurd\\AppData\\Local\\Temp\\ipykernel_44060\\2826385385.py:3: PerformanceWarning: DataFrame is highly fragmented.  This is usually the result of calling `frame.insert` many times, which has poor performance.  Consider joining all columns at once using pd.concat(axis=1) instead. To get a de-fragmented frame, use `newframe = frame.copy()`\n",
      "  train_df[f'{sensor}_rolling_90th'] = train_df[sensor].rolling(window=window_size).quantile(0.9)\n",
      "C:\\Users\\amurd\\AppData\\Local\\Temp\\ipykernel_44060\\2826385385.py:4: PerformanceWarning: DataFrame is highly fragmented.  This is usually the result of calling `frame.insert` many times, which has poor performance.  Consider joining all columns at once using pd.concat(axis=1) instead. To get a de-fragmented frame, use `newframe = frame.copy()`\n",
      "  test_df[f'{sensor}_rolling_10th'] = test_df[sensor].rolling(window=window_size).quantile(0.1)\n",
      "C:\\Users\\amurd\\AppData\\Local\\Temp\\ipykernel_44060\\2826385385.py:5: PerformanceWarning: DataFrame is highly fragmented.  This is usually the result of calling `frame.insert` many times, which has poor performance.  Consider joining all columns at once using pd.concat(axis=1) instead. To get a de-fragmented frame, use `newframe = frame.copy()`\n",
      "  test_df[f'{sensor}_rolling_90th'] = test_df[sensor].rolling(window=window_size).quantile(0.9)\n",
      "C:\\Users\\amurd\\AppData\\Local\\Temp\\ipykernel_44060\\2826385385.py:2: PerformanceWarning: DataFrame is highly fragmented.  This is usually the result of calling `frame.insert` many times, which has poor performance.  Consider joining all columns at once using pd.concat(axis=1) instead. To get a de-fragmented frame, use `newframe = frame.copy()`\n",
      "  train_df[f'{sensor}_rolling_10th'] = train_df[sensor].rolling(window=window_size).quantile(0.1)\n",
      "C:\\Users\\amurd\\AppData\\Local\\Temp\\ipykernel_44060\\2826385385.py:3: PerformanceWarning: DataFrame is highly fragmented.  This is usually the result of calling `frame.insert` many times, which has poor performance.  Consider joining all columns at once using pd.concat(axis=1) instead. To get a de-fragmented frame, use `newframe = frame.copy()`\n",
      "  train_df[f'{sensor}_rolling_90th'] = train_df[sensor].rolling(window=window_size).quantile(0.9)\n",
      "C:\\Users\\amurd\\AppData\\Local\\Temp\\ipykernel_44060\\2826385385.py:4: PerformanceWarning: DataFrame is highly fragmented.  This is usually the result of calling `frame.insert` many times, which has poor performance.  Consider joining all columns at once using pd.concat(axis=1) instead. To get a de-fragmented frame, use `newframe = frame.copy()`\n",
      "  test_df[f'{sensor}_rolling_10th'] = test_df[sensor].rolling(window=window_size).quantile(0.1)\n",
      "C:\\Users\\amurd\\AppData\\Local\\Temp\\ipykernel_44060\\2826385385.py:5: PerformanceWarning: DataFrame is highly fragmented.  This is usually the result of calling `frame.insert` many times, which has poor performance.  Consider joining all columns at once using pd.concat(axis=1) instead. To get a de-fragmented frame, use `newframe = frame.copy()`\n",
      "  test_df[f'{sensor}_rolling_90th'] = test_df[sensor].rolling(window=window_size).quantile(0.9)\n",
      "C:\\Users\\amurd\\AppData\\Local\\Temp\\ipykernel_44060\\2826385385.py:2: PerformanceWarning: DataFrame is highly fragmented.  This is usually the result of calling `frame.insert` many times, which has poor performance.  Consider joining all columns at once using pd.concat(axis=1) instead. To get a de-fragmented frame, use `newframe = frame.copy()`\n",
      "  train_df[f'{sensor}_rolling_10th'] = train_df[sensor].rolling(window=window_size).quantile(0.1)\n",
      "C:\\Users\\amurd\\AppData\\Local\\Temp\\ipykernel_44060\\2826385385.py:3: PerformanceWarning: DataFrame is highly fragmented.  This is usually the result of calling `frame.insert` many times, which has poor performance.  Consider joining all columns at once using pd.concat(axis=1) instead. To get a de-fragmented frame, use `newframe = frame.copy()`\n",
      "  train_df[f'{sensor}_rolling_90th'] = train_df[sensor].rolling(window=window_size).quantile(0.9)\n",
      "C:\\Users\\amurd\\AppData\\Local\\Temp\\ipykernel_44060\\2826385385.py:4: PerformanceWarning: DataFrame is highly fragmented.  This is usually the result of calling `frame.insert` many times, which has poor performance.  Consider joining all columns at once using pd.concat(axis=1) instead. To get a de-fragmented frame, use `newframe = frame.copy()`\n",
      "  test_df[f'{sensor}_rolling_10th'] = test_df[sensor].rolling(window=window_size).quantile(0.1)\n",
      "C:\\Users\\amurd\\AppData\\Local\\Temp\\ipykernel_44060\\2826385385.py:5: PerformanceWarning: DataFrame is highly fragmented.  This is usually the result of calling `frame.insert` many times, which has poor performance.  Consider joining all columns at once using pd.concat(axis=1) instead. To get a de-fragmented frame, use `newframe = frame.copy()`\n",
      "  test_df[f'{sensor}_rolling_90th'] = test_df[sensor].rolling(window=window_size).quantile(0.9)\n",
      "C:\\Users\\amurd\\AppData\\Local\\Temp\\ipykernel_44060\\2826385385.py:2: PerformanceWarning: DataFrame is highly fragmented.  This is usually the result of calling `frame.insert` many times, which has poor performance.  Consider joining all columns at once using pd.concat(axis=1) instead. To get a de-fragmented frame, use `newframe = frame.copy()`\n",
      "  train_df[f'{sensor}_rolling_10th'] = train_df[sensor].rolling(window=window_size).quantile(0.1)\n",
      "C:\\Users\\amurd\\AppData\\Local\\Temp\\ipykernel_44060\\2826385385.py:3: PerformanceWarning: DataFrame is highly fragmented.  This is usually the result of calling `frame.insert` many times, which has poor performance.  Consider joining all columns at once using pd.concat(axis=1) instead. To get a de-fragmented frame, use `newframe = frame.copy()`\n",
      "  train_df[f'{sensor}_rolling_90th'] = train_df[sensor].rolling(window=window_size).quantile(0.9)\n",
      "C:\\Users\\amurd\\AppData\\Local\\Temp\\ipykernel_44060\\2826385385.py:4: PerformanceWarning: DataFrame is highly fragmented.  This is usually the result of calling `frame.insert` many times, which has poor performance.  Consider joining all columns at once using pd.concat(axis=1) instead. To get a de-fragmented frame, use `newframe = frame.copy()`\n",
      "  test_df[f'{sensor}_rolling_10th'] = test_df[sensor].rolling(window=window_size).quantile(0.1)\n",
      "C:\\Users\\amurd\\AppData\\Local\\Temp\\ipykernel_44060\\2826385385.py:5: PerformanceWarning: DataFrame is highly fragmented.  This is usually the result of calling `frame.insert` many times, which has poor performance.  Consider joining all columns at once using pd.concat(axis=1) instead. To get a de-fragmented frame, use `newframe = frame.copy()`\n",
      "  test_df[f'{sensor}_rolling_90th'] = test_df[sensor].rolling(window=window_size).quantile(0.9)\n",
      "C:\\Users\\amurd\\AppData\\Local\\Temp\\ipykernel_44060\\2826385385.py:2: PerformanceWarning: DataFrame is highly fragmented.  This is usually the result of calling `frame.insert` many times, which has poor performance.  Consider joining all columns at once using pd.concat(axis=1) instead. To get a de-fragmented frame, use `newframe = frame.copy()`\n",
      "  train_df[f'{sensor}_rolling_10th'] = train_df[sensor].rolling(window=window_size).quantile(0.1)\n",
      "C:\\Users\\amurd\\AppData\\Local\\Temp\\ipykernel_44060\\2826385385.py:3: PerformanceWarning: DataFrame is highly fragmented.  This is usually the result of calling `frame.insert` many times, which has poor performance.  Consider joining all columns at once using pd.concat(axis=1) instead. To get a de-fragmented frame, use `newframe = frame.copy()`\n",
      "  train_df[f'{sensor}_rolling_90th'] = train_df[sensor].rolling(window=window_size).quantile(0.9)\n",
      "C:\\Users\\amurd\\AppData\\Local\\Temp\\ipykernel_44060\\2826385385.py:4: PerformanceWarning: DataFrame is highly fragmented.  This is usually the result of calling `frame.insert` many times, which has poor performance.  Consider joining all columns at once using pd.concat(axis=1) instead. To get a de-fragmented frame, use `newframe = frame.copy()`\n",
      "  test_df[f'{sensor}_rolling_10th'] = test_df[sensor].rolling(window=window_size).quantile(0.1)\n",
      "C:\\Users\\amurd\\AppData\\Local\\Temp\\ipykernel_44060\\2826385385.py:5: PerformanceWarning: DataFrame is highly fragmented.  This is usually the result of calling `frame.insert` many times, which has poor performance.  Consider joining all columns at once using pd.concat(axis=1) instead. To get a de-fragmented frame, use `newframe = frame.copy()`\n",
      "  test_df[f'{sensor}_rolling_90th'] = test_df[sensor].rolling(window=window_size).quantile(0.9)\n",
      "C:\\Users\\amurd\\AppData\\Local\\Temp\\ipykernel_44060\\2826385385.py:2: PerformanceWarning: DataFrame is highly fragmented.  This is usually the result of calling `frame.insert` many times, which has poor performance.  Consider joining all columns at once using pd.concat(axis=1) instead. To get a de-fragmented frame, use `newframe = frame.copy()`\n",
      "  train_df[f'{sensor}_rolling_10th'] = train_df[sensor].rolling(window=window_size).quantile(0.1)\n",
      "C:\\Users\\amurd\\AppData\\Local\\Temp\\ipykernel_44060\\2826385385.py:3: PerformanceWarning: DataFrame is highly fragmented.  This is usually the result of calling `frame.insert` many times, which has poor performance.  Consider joining all columns at once using pd.concat(axis=1) instead. To get a de-fragmented frame, use `newframe = frame.copy()`\n",
      "  train_df[f'{sensor}_rolling_90th'] = train_df[sensor].rolling(window=window_size).quantile(0.9)\n",
      "C:\\Users\\amurd\\AppData\\Local\\Temp\\ipykernel_44060\\2826385385.py:4: PerformanceWarning: DataFrame is highly fragmented.  This is usually the result of calling `frame.insert` many times, which has poor performance.  Consider joining all columns at once using pd.concat(axis=1) instead. To get a de-fragmented frame, use `newframe = frame.copy()`\n",
      "  test_df[f'{sensor}_rolling_10th'] = test_df[sensor].rolling(window=window_size).quantile(0.1)\n",
      "C:\\Users\\amurd\\AppData\\Local\\Temp\\ipykernel_44060\\2826385385.py:5: PerformanceWarning: DataFrame is highly fragmented.  This is usually the result of calling `frame.insert` many times, which has poor performance.  Consider joining all columns at once using pd.concat(axis=1) instead. To get a de-fragmented frame, use `newframe = frame.copy()`\n",
      "  test_df[f'{sensor}_rolling_90th'] = test_df[sensor].rolling(window=window_size).quantile(0.9)\n"
     ]
    }
   ],
   "source": [
    "for sensor in [f'sensor_{i}' for i in range(1, 22)]:\n",
    "    train_df[f'{sensor}_rolling_10th'] = train_df[sensor].rolling(window=window_size).quantile(0.1)\n",
    "    train_df[f'{sensor}_rolling_90th'] = train_df[sensor].rolling(window=window_size).quantile(0.9)\n",
    "    test_df[f'{sensor}_rolling_10th'] = test_df[sensor].rolling(window=window_size).quantile(0.1)\n",
    "    test_df[f'{sensor}_rolling_90th'] = test_df[sensor].rolling(window=window_size).quantile(0.9)"
   ]
  },
  {
   "cell_type": "markdown",
   "metadata": {},
   "source": [
    "Drop NaN values resulting from the rolling percentile calculations"
   ]
  },
  {
   "cell_type": "code",
   "execution_count": 27,
   "metadata": {},
   "outputs": [],
   "source": [
    "train_df.dropna(inplace=True)\n",
    "test_df.dropna(inplace=True)"
   ]
  },
  {
   "cell_type": "markdown",
   "metadata": {},
   "source": [
    "Check the first few rows to ensure the rolling percentiles have been added"
   ]
  },
  {
   "cell_type": "code",
   "execution_count": 28,
   "metadata": {},
   "outputs": [
    {
     "data": {
      "application/vnd.microsoft.datawrangler.viewer.v0+json": {
       "columns": [
        {
         "name": "index",
         "rawType": "int64",
         "type": "integer"
        },
        {
         "name": "engine_id",
         "rawType": "int64",
         "type": "integer"
        },
        {
         "name": "time_in_cycles",
         "rawType": "int64",
         "type": "integer"
        },
        {
         "name": "sensor_2",
         "rawType": "float64",
         "type": "float"
        },
        {
         "name": "sensor_2_rolling_10th",
         "rawType": "float64",
         "type": "float"
        },
        {
         "name": "sensor_2_rolling_90th",
         "rawType": "float64",
         "type": "float"
        }
       ],
       "conversionMethod": "pd.DataFrame",
       "ref": "97bce38f-febc-476e-b385-98016fc7313a",
       "rows": [
        [
         "10",
         "1",
         "11",
         "642.28",
         "641.874",
         "642.528"
        ],
        [
         "11",
         "1",
         "12",
         "642.06",
         "641.85",
         "642.448"
        ],
        [
         "12",
         "1",
         "13",
         "643.07",
         "641.85",
         "642.754"
        ],
        [
         "13",
         "1",
         "14",
         "642.35",
         "641.85",
         "642.782"
        ],
        [
         "14",
         "1",
         "15",
         "642.43",
         "642.1479999999999",
         "642.814"
        ]
       ],
       "shape": {
        "columns": 5,
        "rows": 5
       }
      },
      "text/html": [
       "<div>\n",
       "<style scoped>\n",
       "    .dataframe tbody tr th:only-of-type {\n",
       "        vertical-align: middle;\n",
       "    }\n",
       "\n",
       "    .dataframe tbody tr th {\n",
       "        vertical-align: top;\n",
       "    }\n",
       "\n",
       "    .dataframe thead th {\n",
       "        text-align: right;\n",
       "    }\n",
       "</style>\n",
       "<table border=\"1\" class=\"dataframe\">\n",
       "  <thead>\n",
       "    <tr style=\"text-align: right;\">\n",
       "      <th></th>\n",
       "      <th>engine_id</th>\n",
       "      <th>time_in_cycles</th>\n",
       "      <th>sensor_2</th>\n",
       "      <th>sensor_2_rolling_10th</th>\n",
       "      <th>sensor_2_rolling_90th</th>\n",
       "    </tr>\n",
       "  </thead>\n",
       "  <tbody>\n",
       "    <tr>\n",
       "      <th>10</th>\n",
       "      <td>1</td>\n",
       "      <td>11</td>\n",
       "      <td>642.28</td>\n",
       "      <td>641.874</td>\n",
       "      <td>642.528</td>\n",
       "    </tr>\n",
       "    <tr>\n",
       "      <th>11</th>\n",
       "      <td>1</td>\n",
       "      <td>12</td>\n",
       "      <td>642.06</td>\n",
       "      <td>641.850</td>\n",
       "      <td>642.448</td>\n",
       "    </tr>\n",
       "    <tr>\n",
       "      <th>12</th>\n",
       "      <td>1</td>\n",
       "      <td>13</td>\n",
       "      <td>643.07</td>\n",
       "      <td>641.850</td>\n",
       "      <td>642.754</td>\n",
       "    </tr>\n",
       "    <tr>\n",
       "      <th>13</th>\n",
       "      <td>1</td>\n",
       "      <td>14</td>\n",
       "      <td>642.35</td>\n",
       "      <td>641.850</td>\n",
       "      <td>642.782</td>\n",
       "    </tr>\n",
       "    <tr>\n",
       "      <th>14</th>\n",
       "      <td>1</td>\n",
       "      <td>15</td>\n",
       "      <td>642.43</td>\n",
       "      <td>642.148</td>\n",
       "      <td>642.814</td>\n",
       "    </tr>\n",
       "  </tbody>\n",
       "</table>\n",
       "</div>"
      ],
      "text/plain": [
       "    engine_id  time_in_cycles  sensor_2  sensor_2_rolling_10th  \\\n",
       "10          1              11    642.28                641.874   \n",
       "11          1              12    642.06                641.850   \n",
       "12          1              13    643.07                641.850   \n",
       "13          1              14    642.35                641.850   \n",
       "14          1              15    642.43                642.148   \n",
       "\n",
       "    sensor_2_rolling_90th  \n",
       "10                642.528  \n",
       "11                642.448  \n",
       "12                642.754  \n",
       "13                642.782  \n",
       "14                642.814  "
      ]
     },
     "execution_count": 28,
     "metadata": {},
     "output_type": "execute_result"
    }
   ],
   "source": [
    "train_df[['engine_id', 'time_in_cycles', 'sensor_2', 'sensor_2_rolling_10th', 'sensor_2_rolling_90th']].head()"
   ]
  },
  {
   "cell_type": "markdown",
   "metadata": {},
   "source": [
    "## 2.6. Feature Interaction (Product of sensors)\n",
    "You can also create new features by interacting different sensor values. For example, you could take the product of two sensors."
   ]
  },
  {
   "cell_type": "code",
   "execution_count": 29,
   "metadata": {},
   "outputs": [
    {
     "name": "stderr",
     "output_type": "stream",
     "text": [
      "C:\\Users\\amurd\\AppData\\Local\\Temp\\ipykernel_44060\\2508984821.py:1: PerformanceWarning: DataFrame is highly fragmented.  This is usually the result of calling `frame.insert` many times, which has poor performance.  Consider joining all columns at once using pd.concat(axis=1) instead. To get a de-fragmented frame, use `newframe = frame.copy()`\n",
      "  train_df['sensor_1_sensor_2_interaction'] = train_df['sensor_1'] * train_df['sensor_2']\n",
      "C:\\Users\\amurd\\AppData\\Local\\Temp\\ipykernel_44060\\2508984821.py:2: PerformanceWarning: DataFrame is highly fragmented.  This is usually the result of calling `frame.insert` many times, which has poor performance.  Consider joining all columns at once using pd.concat(axis=1) instead. To get a de-fragmented frame, use `newframe = frame.copy()`\n",
      "  test_df['sensor_1_sensor_2_interaction'] = test_df['sensor_1'] * test_df['sensor_2']\n"
     ]
    }
   ],
   "source": [
    "train_df['sensor_1_sensor_2_interaction'] = train_df['sensor_1'] * train_df['sensor_2']\n",
    "test_df['sensor_1_sensor_2_interaction'] = test_df['sensor_1'] * test_df['sensor_2']"
   ]
  },
  {
   "cell_type": "markdown",
   "metadata": {},
   "source": [
    "Check the first few rows to ensure the interaction feature has been added"
   ]
  },
  {
   "cell_type": "code",
   "execution_count": 30,
   "metadata": {},
   "outputs": [
    {
     "data": {
      "application/vnd.microsoft.datawrangler.viewer.v0+json": {
       "columns": [
        {
         "name": "index",
         "rawType": "int64",
         "type": "integer"
        },
        {
         "name": "engine_id",
         "rawType": "int64",
         "type": "integer"
        },
        {
         "name": "time_in_cycles",
         "rawType": "int64",
         "type": "integer"
        },
        {
         "name": "sensor_1",
         "rawType": "float64",
         "type": "float"
        },
        {
         "name": "sensor_2",
         "rawType": "float64",
         "type": "float"
        },
        {
         "name": "sensor_1_sensor_2_interaction",
         "rawType": "float64",
         "type": "float"
        }
       ],
       "conversionMethod": "pd.DataFrame",
       "ref": "71734ece-fcef-4911-84c7-7d73047c7cf8",
       "rows": [
        [
         "10",
         "1",
         "11",
         "518.67",
         "642.28",
         "333131.36759999994"
        ],
        [
         "11",
         "1",
         "12",
         "518.67",
         "642.06",
         "333017.26019999996"
        ],
        [
         "12",
         "1",
         "13",
         "518.67",
         "643.07",
         "333541.1169"
        ],
        [
         "13",
         "1",
         "14",
         "518.67",
         "642.35",
         "333167.67449999996"
        ],
        [
         "14",
         "1",
         "15",
         "518.67",
         "642.43",
         "333209.16809999995"
        ]
       ],
       "shape": {
        "columns": 5,
        "rows": 5
       }
      },
      "text/html": [
       "<div>\n",
       "<style scoped>\n",
       "    .dataframe tbody tr th:only-of-type {\n",
       "        vertical-align: middle;\n",
       "    }\n",
       "\n",
       "    .dataframe tbody tr th {\n",
       "        vertical-align: top;\n",
       "    }\n",
       "\n",
       "    .dataframe thead th {\n",
       "        text-align: right;\n",
       "    }\n",
       "</style>\n",
       "<table border=\"1\" class=\"dataframe\">\n",
       "  <thead>\n",
       "    <tr style=\"text-align: right;\">\n",
       "      <th></th>\n",
       "      <th>engine_id</th>\n",
       "      <th>time_in_cycles</th>\n",
       "      <th>sensor_1</th>\n",
       "      <th>sensor_2</th>\n",
       "      <th>sensor_1_sensor_2_interaction</th>\n",
       "    </tr>\n",
       "  </thead>\n",
       "  <tbody>\n",
       "    <tr>\n",
       "      <th>10</th>\n",
       "      <td>1</td>\n",
       "      <td>11</td>\n",
       "      <td>518.67</td>\n",
       "      <td>642.28</td>\n",
       "      <td>333131.3676</td>\n",
       "    </tr>\n",
       "    <tr>\n",
       "      <th>11</th>\n",
       "      <td>1</td>\n",
       "      <td>12</td>\n",
       "      <td>518.67</td>\n",
       "      <td>642.06</td>\n",
       "      <td>333017.2602</td>\n",
       "    </tr>\n",
       "    <tr>\n",
       "      <th>12</th>\n",
       "      <td>1</td>\n",
       "      <td>13</td>\n",
       "      <td>518.67</td>\n",
       "      <td>643.07</td>\n",
       "      <td>333541.1169</td>\n",
       "    </tr>\n",
       "    <tr>\n",
       "      <th>13</th>\n",
       "      <td>1</td>\n",
       "      <td>14</td>\n",
       "      <td>518.67</td>\n",
       "      <td>642.35</td>\n",
       "      <td>333167.6745</td>\n",
       "    </tr>\n",
       "    <tr>\n",
       "      <th>14</th>\n",
       "      <td>1</td>\n",
       "      <td>15</td>\n",
       "      <td>518.67</td>\n",
       "      <td>642.43</td>\n",
       "      <td>333209.1681</td>\n",
       "    </tr>\n",
       "  </tbody>\n",
       "</table>\n",
       "</div>"
      ],
      "text/plain": [
       "    engine_id  time_in_cycles  sensor_1  sensor_2  \\\n",
       "10          1              11    518.67    642.28   \n",
       "11          1              12    518.67    642.06   \n",
       "12          1              13    518.67    643.07   \n",
       "13          1              14    518.67    642.35   \n",
       "14          1              15    518.67    642.43   \n",
       "\n",
       "    sensor_1_sensor_2_interaction  \n",
       "10                    333131.3676  \n",
       "11                    333017.2602  \n",
       "12                    333541.1169  \n",
       "13                    333167.6745  \n",
       "14                    333209.1681  "
      ]
     },
     "execution_count": 30,
     "metadata": {},
     "output_type": "execute_result"
    }
   ],
   "source": [
    "train_df[['engine_id', 'time_in_cycles', 'sensor_1', 'sensor_2', 'sensor_1_sensor_2_interaction']].head()"
   ]
  },
  {
   "cell_type": "markdown",
   "metadata": {},
   "source": [
    "Summary of engineered features"
   ]
  },
  {
   "cell_type": "code",
   "execution_count": 31,
   "metadata": {},
   "outputs": [
    {
     "data": {
      "application/vnd.microsoft.datawrangler.viewer.v0+json": {
       "columns": [
        {
         "name": "index",
         "rawType": "object",
         "type": "string"
        },
        {
         "name": "engine_id",
         "rawType": "float64",
         "type": "float"
        },
        {
         "name": "time_in_cycles",
         "rawType": "float64",
         "type": "float"
        },
        {
         "name": "operational_setting_1",
         "rawType": "float64",
         "type": "float"
        },
        {
         "name": "operational_setting_2",
         "rawType": "float64",
         "type": "float"
        },
        {
         "name": "operational_setting_3",
         "rawType": "float64",
         "type": "float"
        },
        {
         "name": "sensor_1",
         "rawType": "float64",
         "type": "float"
        },
        {
         "name": "sensor_2",
         "rawType": "float64",
         "type": "float"
        },
        {
         "name": "sensor_3",
         "rawType": "float64",
         "type": "float"
        },
        {
         "name": "sensor_4",
         "rawType": "float64",
         "type": "float"
        },
        {
         "name": "sensor_5",
         "rawType": "float64",
         "type": "float"
        },
        {
         "name": "sensor_6",
         "rawType": "float64",
         "type": "float"
        },
        {
         "name": "sensor_7",
         "rawType": "float64",
         "type": "float"
        },
        {
         "name": "sensor_8",
         "rawType": "float64",
         "type": "float"
        },
        {
         "name": "sensor_9",
         "rawType": "float64",
         "type": "float"
        },
        {
         "name": "sensor_10",
         "rawType": "float64",
         "type": "float"
        },
        {
         "name": "sensor_11",
         "rawType": "float64",
         "type": "float"
        },
        {
         "name": "sensor_12",
         "rawType": "float64",
         "type": "float"
        },
        {
         "name": "sensor_13",
         "rawType": "float64",
         "type": "float"
        },
        {
         "name": "sensor_14",
         "rawType": "float64",
         "type": "float"
        },
        {
         "name": "sensor_15",
         "rawType": "float64",
         "type": "float"
        },
        {
         "name": "sensor_16",
         "rawType": "float64",
         "type": "float"
        },
        {
         "name": "sensor_17",
         "rawType": "float64",
         "type": "float"
        },
        {
         "name": "sensor_18",
         "rawType": "float64",
         "type": "float"
        },
        {
         "name": "sensor_19",
         "rawType": "float64",
         "type": "float"
        },
        {
         "name": "sensor_20",
         "rawType": "float64",
         "type": "float"
        },
        {
         "name": "sensor_21",
         "rawType": "float64",
         "type": "float"
        },
        {
         "name": "sensor_1_rolling_mean",
         "rawType": "float64",
         "type": "float"
        },
        {
         "name": "sensor_1_rolling_std",
         "rawType": "float64",
         "type": "float"
        },
        {
         "name": "sensor_2_rolling_mean",
         "rawType": "float64",
         "type": "float"
        },
        {
         "name": "sensor_2_rolling_std",
         "rawType": "float64",
         "type": "float"
        },
        {
         "name": "sensor_3_rolling_mean",
         "rawType": "float64",
         "type": "float"
        },
        {
         "name": "sensor_3_rolling_std",
         "rawType": "float64",
         "type": "float"
        },
        {
         "name": "sensor_4_rolling_mean",
         "rawType": "float64",
         "type": "float"
        },
        {
         "name": "sensor_4_rolling_std",
         "rawType": "float64",
         "type": "float"
        },
        {
         "name": "sensor_5_rolling_mean",
         "rawType": "float64",
         "type": "float"
        },
        {
         "name": "sensor_5_rolling_std",
         "rawType": "float64",
         "type": "float"
        },
        {
         "name": "sensor_6_rolling_mean",
         "rawType": "float64",
         "type": "float"
        },
        {
         "name": "sensor_6_rolling_std",
         "rawType": "float64",
         "type": "float"
        },
        {
         "name": "sensor_7_rolling_mean",
         "rawType": "float64",
         "type": "float"
        },
        {
         "name": "sensor_7_rolling_std",
         "rawType": "float64",
         "type": "float"
        },
        {
         "name": "sensor_8_rolling_mean",
         "rawType": "float64",
         "type": "float"
        },
        {
         "name": "sensor_8_rolling_std",
         "rawType": "float64",
         "type": "float"
        },
        {
         "name": "sensor_9_rolling_mean",
         "rawType": "float64",
         "type": "float"
        },
        {
         "name": "sensor_9_rolling_std",
         "rawType": "float64",
         "type": "float"
        },
        {
         "name": "sensor_10_rolling_mean",
         "rawType": "float64",
         "type": "float"
        },
        {
         "name": "sensor_10_rolling_std",
         "rawType": "float64",
         "type": "float"
        },
        {
         "name": "sensor_11_rolling_mean",
         "rawType": "float64",
         "type": "float"
        },
        {
         "name": "sensor_11_rolling_std",
         "rawType": "float64",
         "type": "float"
        },
        {
         "name": "sensor_12_rolling_mean",
         "rawType": "float64",
         "type": "float"
        },
        {
         "name": "sensor_12_rolling_std",
         "rawType": "float64",
         "type": "float"
        },
        {
         "name": "sensor_13_rolling_mean",
         "rawType": "float64",
         "type": "float"
        },
        {
         "name": "sensor_13_rolling_std",
         "rawType": "float64",
         "type": "float"
        },
        {
         "name": "sensor_14_rolling_mean",
         "rawType": "float64",
         "type": "float"
        },
        {
         "name": "sensor_14_rolling_std",
         "rawType": "float64",
         "type": "float"
        },
        {
         "name": "sensor_15_rolling_mean",
         "rawType": "float64",
         "type": "float"
        },
        {
         "name": "sensor_15_rolling_std",
         "rawType": "float64",
         "type": "float"
        },
        {
         "name": "sensor_16_rolling_mean",
         "rawType": "float64",
         "type": "float"
        },
        {
         "name": "sensor_16_rolling_std",
         "rawType": "float64",
         "type": "float"
        },
        {
         "name": "sensor_17_rolling_mean",
         "rawType": "float64",
         "type": "float"
        },
        {
         "name": "sensor_17_rolling_std",
         "rawType": "float64",
         "type": "float"
        },
        {
         "name": "sensor_18_rolling_mean",
         "rawType": "float64",
         "type": "float"
        },
        {
         "name": "sensor_18_rolling_std",
         "rawType": "float64",
         "type": "float"
        },
        {
         "name": "sensor_19_rolling_mean",
         "rawType": "float64",
         "type": "float"
        },
        {
         "name": "sensor_19_rolling_std",
         "rawType": "float64",
         "type": "float"
        },
        {
         "name": "sensor_20_rolling_mean",
         "rawType": "float64",
         "type": "float"
        },
        {
         "name": "sensor_20_rolling_std",
         "rawType": "float64",
         "type": "float"
        },
        {
         "name": "sensor_21_rolling_mean",
         "rawType": "float64",
         "type": "float"
        },
        {
         "name": "sensor_21_rolling_std",
         "rawType": "float64",
         "type": "float"
        },
        {
         "name": "sensor_1_delta",
         "rawType": "float64",
         "type": "float"
        },
        {
         "name": "sensor_2_delta",
         "rawType": "float64",
         "type": "float"
        },
        {
         "name": "sensor_3_delta",
         "rawType": "float64",
         "type": "float"
        },
        {
         "name": "sensor_4_delta",
         "rawType": "float64",
         "type": "float"
        },
        {
         "name": "sensor_5_delta",
         "rawType": "float64",
         "type": "float"
        },
        {
         "name": "sensor_6_delta",
         "rawType": "float64",
         "type": "float"
        },
        {
         "name": "sensor_7_delta",
         "rawType": "float64",
         "type": "float"
        },
        {
         "name": "sensor_8_delta",
         "rawType": "float64",
         "type": "float"
        },
        {
         "name": "sensor_9_delta",
         "rawType": "float64",
         "type": "float"
        },
        {
         "name": "sensor_10_delta",
         "rawType": "float64",
         "type": "float"
        },
        {
         "name": "sensor_11_delta",
         "rawType": "float64",
         "type": "float"
        },
        {
         "name": "sensor_12_delta",
         "rawType": "float64",
         "type": "float"
        },
        {
         "name": "sensor_13_delta",
         "rawType": "float64",
         "type": "float"
        },
        {
         "name": "sensor_14_delta",
         "rawType": "float64",
         "type": "float"
        },
        {
         "name": "sensor_15_delta",
         "rawType": "float64",
         "type": "float"
        },
        {
         "name": "sensor_16_delta",
         "rawType": "float64",
         "type": "float"
        },
        {
         "name": "sensor_17_delta",
         "rawType": "float64",
         "type": "float"
        },
        {
         "name": "sensor_18_delta",
         "rawType": "float64",
         "type": "float"
        },
        {
         "name": "sensor_19_delta",
         "rawType": "float64",
         "type": "float"
        },
        {
         "name": "sensor_20_delta",
         "rawType": "float64",
         "type": "float"
        },
        {
         "name": "sensor_21_delta",
         "rawType": "float64",
         "type": "float"
        },
        {
         "name": "sensor_1_cumsum",
         "rawType": "float64",
         "type": "float"
        },
        {
         "name": "sensor_1_cummean",
         "rawType": "float64",
         "type": "float"
        },
        {
         "name": "sensor_2_cumsum",
         "rawType": "float64",
         "type": "float"
        },
        {
         "name": "sensor_2_cummean",
         "rawType": "float64",
         "type": "float"
        },
        {
         "name": "sensor_3_cumsum",
         "rawType": "float64",
         "type": "float"
        },
        {
         "name": "sensor_3_cummean",
         "rawType": "float64",
         "type": "float"
        },
        {
         "name": "sensor_4_cumsum",
         "rawType": "float64",
         "type": "float"
        },
        {
         "name": "sensor_4_cummean",
         "rawType": "float64",
         "type": "float"
        },
        {
         "name": "sensor_5_cumsum",
         "rawType": "float64",
         "type": "float"
        },
        {
         "name": "sensor_5_cummean",
         "rawType": "float64",
         "type": "float"
        },
        {
         "name": "sensor_6_cumsum",
         "rawType": "float64",
         "type": "float"
        },
        {
         "name": "sensor_6_cummean",
         "rawType": "float64",
         "type": "float"
        },
        {
         "name": "sensor_7_cumsum",
         "rawType": "float64",
         "type": "float"
        },
        {
         "name": "sensor_7_cummean",
         "rawType": "float64",
         "type": "float"
        },
        {
         "name": "sensor_8_cumsum",
         "rawType": "float64",
         "type": "float"
        },
        {
         "name": "sensor_8_cummean",
         "rawType": "float64",
         "type": "float"
        },
        {
         "name": "sensor_9_cumsum",
         "rawType": "float64",
         "type": "float"
        },
        {
         "name": "sensor_9_cummean",
         "rawType": "float64",
         "type": "float"
        },
        {
         "name": "sensor_10_cumsum",
         "rawType": "float64",
         "type": "float"
        },
        {
         "name": "sensor_10_cummean",
         "rawType": "float64",
         "type": "float"
        },
        {
         "name": "sensor_11_cumsum",
         "rawType": "float64",
         "type": "float"
        },
        {
         "name": "sensor_11_cummean",
         "rawType": "float64",
         "type": "float"
        },
        {
         "name": "sensor_12_cumsum",
         "rawType": "float64",
         "type": "float"
        },
        {
         "name": "sensor_12_cummean",
         "rawType": "float64",
         "type": "float"
        },
        {
         "name": "sensor_13_cumsum",
         "rawType": "float64",
         "type": "float"
        },
        {
         "name": "sensor_13_cummean",
         "rawType": "float64",
         "type": "float"
        },
        {
         "name": "sensor_14_cumsum",
         "rawType": "float64",
         "type": "float"
        },
        {
         "name": "sensor_14_cummean",
         "rawType": "float64",
         "type": "float"
        },
        {
         "name": "sensor_15_cumsum",
         "rawType": "float64",
         "type": "float"
        },
        {
         "name": "sensor_15_cummean",
         "rawType": "float64",
         "type": "float"
        },
        {
         "name": "sensor_16_cumsum",
         "rawType": "float64",
         "type": "float"
        },
        {
         "name": "sensor_16_cummean",
         "rawType": "float64",
         "type": "float"
        },
        {
         "name": "sensor_17_cumsum",
         "rawType": "float64",
         "type": "float"
        },
        {
         "name": "sensor_17_cummean",
         "rawType": "float64",
         "type": "float"
        },
        {
         "name": "sensor_18_cumsum",
         "rawType": "float64",
         "type": "float"
        },
        {
         "name": "sensor_18_cummean",
         "rawType": "float64",
         "type": "float"
        },
        {
         "name": "sensor_19_cumsum",
         "rawType": "float64",
         "type": "float"
        },
        {
         "name": "sensor_19_cummean",
         "rawType": "float64",
         "type": "float"
        },
        {
         "name": "sensor_20_cumsum",
         "rawType": "float64",
         "type": "float"
        },
        {
         "name": "sensor_20_cummean",
         "rawType": "float64",
         "type": "float"
        },
        {
         "name": "sensor_21_cumsum",
         "rawType": "float64",
         "type": "float"
        },
        {
         "name": "sensor_21_cummean",
         "rawType": "float64",
         "type": "float"
        },
        {
         "name": "sensor_1_lag_1",
         "rawType": "float64",
         "type": "float"
        },
        {
         "name": "sensor_2_lag_1",
         "rawType": "float64",
         "type": "float"
        },
        {
         "name": "sensor_3_lag_1",
         "rawType": "float64",
         "type": "float"
        },
        {
         "name": "sensor_4_lag_1",
         "rawType": "float64",
         "type": "float"
        },
        {
         "name": "sensor_5_lag_1",
         "rawType": "float64",
         "type": "float"
        },
        {
         "name": "sensor_6_lag_1",
         "rawType": "float64",
         "type": "float"
        },
        {
         "name": "sensor_7_lag_1",
         "rawType": "float64",
         "type": "float"
        },
        {
         "name": "sensor_8_lag_1",
         "rawType": "float64",
         "type": "float"
        },
        {
         "name": "sensor_9_lag_1",
         "rawType": "float64",
         "type": "float"
        },
        {
         "name": "sensor_10_lag_1",
         "rawType": "float64",
         "type": "float"
        },
        {
         "name": "sensor_11_lag_1",
         "rawType": "float64",
         "type": "float"
        },
        {
         "name": "sensor_12_lag_1",
         "rawType": "float64",
         "type": "float"
        },
        {
         "name": "sensor_13_lag_1",
         "rawType": "float64",
         "type": "float"
        },
        {
         "name": "sensor_14_lag_1",
         "rawType": "float64",
         "type": "float"
        },
        {
         "name": "sensor_15_lag_1",
         "rawType": "float64",
         "type": "float"
        },
        {
         "name": "sensor_16_lag_1",
         "rawType": "float64",
         "type": "float"
        },
        {
         "name": "sensor_17_lag_1",
         "rawType": "float64",
         "type": "float"
        },
        {
         "name": "sensor_18_lag_1",
         "rawType": "float64",
         "type": "float"
        },
        {
         "name": "sensor_19_lag_1",
         "rawType": "float64",
         "type": "float"
        },
        {
         "name": "sensor_20_lag_1",
         "rawType": "float64",
         "type": "float"
        },
        {
         "name": "sensor_21_lag_1",
         "rawType": "float64",
         "type": "float"
        },
        {
         "name": "sensor_1_rolling_10th",
         "rawType": "float64",
         "type": "float"
        },
        {
         "name": "sensor_1_rolling_90th",
         "rawType": "float64",
         "type": "float"
        },
        {
         "name": "sensor_2_rolling_10th",
         "rawType": "float64",
         "type": "float"
        },
        {
         "name": "sensor_2_rolling_90th",
         "rawType": "float64",
         "type": "float"
        },
        {
         "name": "sensor_3_rolling_10th",
         "rawType": "float64",
         "type": "float"
        },
        {
         "name": "sensor_3_rolling_90th",
         "rawType": "float64",
         "type": "float"
        },
        {
         "name": "sensor_4_rolling_10th",
         "rawType": "float64",
         "type": "float"
        },
        {
         "name": "sensor_4_rolling_90th",
         "rawType": "float64",
         "type": "float"
        },
        {
         "name": "sensor_5_rolling_10th",
         "rawType": "float64",
         "type": "float"
        },
        {
         "name": "sensor_5_rolling_90th",
         "rawType": "float64",
         "type": "float"
        },
        {
         "name": "sensor_6_rolling_10th",
         "rawType": "float64",
         "type": "float"
        },
        {
         "name": "sensor_6_rolling_90th",
         "rawType": "float64",
         "type": "float"
        },
        {
         "name": "sensor_7_rolling_10th",
         "rawType": "float64",
         "type": "float"
        },
        {
         "name": "sensor_7_rolling_90th",
         "rawType": "float64",
         "type": "float"
        },
        {
         "name": "sensor_8_rolling_10th",
         "rawType": "float64",
         "type": "float"
        },
        {
         "name": "sensor_8_rolling_90th",
         "rawType": "float64",
         "type": "float"
        },
        {
         "name": "sensor_9_rolling_10th",
         "rawType": "float64",
         "type": "float"
        },
        {
         "name": "sensor_9_rolling_90th",
         "rawType": "float64",
         "type": "float"
        },
        {
         "name": "sensor_10_rolling_10th",
         "rawType": "float64",
         "type": "float"
        },
        {
         "name": "sensor_10_rolling_90th",
         "rawType": "float64",
         "type": "float"
        },
        {
         "name": "sensor_11_rolling_10th",
         "rawType": "float64",
         "type": "float"
        },
        {
         "name": "sensor_11_rolling_90th",
         "rawType": "float64",
         "type": "float"
        },
        {
         "name": "sensor_12_rolling_10th",
         "rawType": "float64",
         "type": "float"
        },
        {
         "name": "sensor_12_rolling_90th",
         "rawType": "float64",
         "type": "float"
        },
        {
         "name": "sensor_13_rolling_10th",
         "rawType": "float64",
         "type": "float"
        },
        {
         "name": "sensor_13_rolling_90th",
         "rawType": "float64",
         "type": "float"
        },
        {
         "name": "sensor_14_rolling_10th",
         "rawType": "float64",
         "type": "float"
        },
        {
         "name": "sensor_14_rolling_90th",
         "rawType": "float64",
         "type": "float"
        },
        {
         "name": "sensor_15_rolling_10th",
         "rawType": "float64",
         "type": "float"
        },
        {
         "name": "sensor_15_rolling_90th",
         "rawType": "float64",
         "type": "float"
        },
        {
         "name": "sensor_16_rolling_10th",
         "rawType": "float64",
         "type": "float"
        },
        {
         "name": "sensor_16_rolling_90th",
         "rawType": "float64",
         "type": "float"
        },
        {
         "name": "sensor_17_rolling_10th",
         "rawType": "float64",
         "type": "float"
        },
        {
         "name": "sensor_17_rolling_90th",
         "rawType": "float64",
         "type": "float"
        },
        {
         "name": "sensor_18_rolling_10th",
         "rawType": "float64",
         "type": "float"
        },
        {
         "name": "sensor_18_rolling_90th",
         "rawType": "float64",
         "type": "float"
        },
        {
         "name": "sensor_19_rolling_10th",
         "rawType": "float64",
         "type": "float"
        },
        {
         "name": "sensor_19_rolling_90th",
         "rawType": "float64",
         "type": "float"
        },
        {
         "name": "sensor_20_rolling_10th",
         "rawType": "float64",
         "type": "float"
        },
        {
         "name": "sensor_20_rolling_90th",
         "rawType": "float64",
         "type": "float"
        },
        {
         "name": "sensor_21_rolling_10th",
         "rawType": "float64",
         "type": "float"
        },
        {
         "name": "sensor_21_rolling_90th",
         "rawType": "float64",
         "type": "float"
        },
        {
         "name": "sensor_1_sensor_2_interaction",
         "rawType": "float64",
         "type": "float"
        }
       ],
       "conversionMethod": "pd.DataFrame",
       "ref": "3fc78627-bb0f-4167-91ac-2600774f41ba",
       "rows": [
        [
         "count",
         "20423.0",
         "20423.0",
         "20423.0",
         "20423.0",
         "20423.0",
         "20423.0",
         "20423.0",
         "20423.0",
         "20423.0",
         "20423.0",
         "20423.0",
         "20423.0",
         "20423.0",
         "20423.0",
         "20423.0",
         "20423.0",
         "20423.0",
         "20423.0",
         "20423.0",
         "20423.0",
         "20423.0",
         "20423.0",
         "20423.0",
         "20423.0",
         "20423.0",
         "20423.0",
         "20423.0",
         "20423.0",
         "20423.0",
         "20423.0",
         "20423.0",
         "20423.0",
         "20423.0",
         "20423.0",
         "20423.0",
         "20423.0",
         "20423.0",
         "20423.0",
         "20423.0",
         "20423.0",
         "20423.0",
         "20423.0",
         "20423.0",
         "20423.0",
         "20423.0",
         "20423.0",
         "20423.0",
         "20423.0",
         "20423.0",
         "20423.0",
         "20423.0",
         "20423.0",
         "20423.0",
         "20423.0",
         "20423.0",
         "20423.0",
         "20423.0",
         "20423.0",
         "20423.0",
         "20423.0",
         "20423.0",
         "20423.0",
         "20423.0",
         "20423.0",
         "20423.0",
         "20423.0",
         "20423.0",
         "20423.0",
         "20423.0",
         "20423.0",
         "20423.0",
         "20423.0",
         "20423.0",
         "20423.0",
         "20423.0",
         "20423.0",
         "20423.0",
         "20423.0",
         "20423.0",
         "20423.0",
         "20423.0",
         "20423.0",
         "20423.0",
         "20423.0",
         "20423.0",
         "20423.0",
         "20423.0",
         "20423.0",
         "20423.0",
         "20423.0",
         "20423.0",
         "20423.0",
         "20423.0",
         "20423.0",
         "20423.0",
         "20423.0",
         "20423.0",
         "20423.0",
         "20423.0",
         "20423.0",
         "20423.0",
         "20423.0",
         "20423.0",
         "20423.0",
         "20423.0",
         "20423.0",
         "20423.0",
         "20423.0",
         "20423.0",
         "20423.0",
         "20423.0",
         "20423.0",
         "20423.0",
         "20423.0",
         "20423.0",
         "20423.0",
         "20423.0",
         "20423.0",
         "20423.0",
         "20423.0",
         "20423.0",
         "20423.0",
         "20423.0",
         "20423.0",
         "20423.0",
         "20423.0",
         "20423.0",
         "20423.0",
         "20423.0",
         "20423.0",
         "20423.0",
         "20423.0",
         "20423.0",
         "20423.0",
         "20423.0",
         "20423.0",
         "20423.0",
         "20423.0",
         "20423.0",
         "20423.0",
         "20423.0",
         "20423.0",
         "20423.0",
         "20423.0",
         "20423.0",
         "20423.0",
         "20423.0",
         "20423.0",
         "20423.0",
         "20423.0",
         "20423.0",
         "20423.0",
         "20423.0",
         "20423.0",
         "20423.0",
         "20423.0",
         "20423.0",
         "20423.0",
         "20423.0",
         "20423.0",
         "20423.0",
         "20423.0",
         "20423.0",
         "20423.0",
         "20423.0",
         "20423.0",
         "20423.0",
         "20423.0",
         "20423.0",
         "20423.0",
         "20423.0",
         "20423.0",
         "20423.0",
         "20423.0",
         "20423.0",
         "20423.0",
         "20423.0",
         "20423.0",
         "20423.0",
         "20423.0",
         "20423.0",
         "20423.0",
         "20423.0",
         "20423.0",
         "20423.0",
         "20423.0",
         "20423.0",
         "20423.0",
         "20423.0",
         "20423.0",
         "20423.0",
         "20423.0",
         "20423.0",
         "20423.0",
         "20423.0"
        ],
        [
         "mean",
         "51.5362091759291",
         "109.89879057924888",
         "-8.416980854918473e-06",
         "2.3551877784850405e-06",
         "100.0",
         "518.67",
         "642.6841183959261",
         "1590.5611227537581",
         "1408.9996866278216",
         "14.620000000000003",
         "21.60980708025266",
         "553.3614322087843",
         "2388.0970498947263",
         "9065.337330950399",
         "1.3000000000000003",
         "47.54320814767664",
         "521.4083410860304",
         "2388.0965754296626",
         "8143.8207785340055",
         "8.442396028986927",
         "0.030000000000000013",
         "393.2211722078049",
         "2388.0",
         "100.0",
         "38.814967928316115",
         "23.28892943250257",
         "518.67",
         "0.0",
         "642.6749865347892",
         "0.2889890042981019",
         "1590.4551064975763",
         "3.811780927144693",
         "1408.8151114919453",
         "3.8959131811920855",
         "14.620000000000003",
         "0.0",
         "21.609802869314017",
         "0.00038797681995254976",
         "553.3788259315477",
         "0.3907771737923642",
         "2388.09581138912",
         "0.029103693172663647",
         "9065.045810213975",
         "4.192477876481645",
         "1.3000000000000003",
         "0.0",
         "47.5375918327376",
         "0.09878204988455735",
         "521.4231153111688",
         "0.29146305409941026",
         "2388.0953101894925",
         "0.02933853665831282",
         "8143.613875728345",
         "3.230209555846288",
         "8.441675555011507",
         "0.019282384553118412",
         "0.030000000000000013",
         "0.0",
         "393.19301767614945",
         "0.9040896568789625",
         "2388.0",
         "0.0",
         "100.0",
         "0.0",
         "38.81846193017677",
         "0.09701646099280446",
         "23.290995766537726",
         "0.05780073251263749",
         "0.0",
         "0.0067468050727121365",
         "0.0751603584194291",
         "0.1383831954169319",
         "0.0",
         "3.4275082015368e-06",
         "-0.012727317240366279",
         "0.0009161239778680026",
         "0.20931400871566325",
         "0.0",
         "0.004092444792635752",
         "-0.010950888703912233",
         "0.0009592126524016443",
         "0.15173480879400672",
         "0.0005256083827057733",
         "0.0",
         "0.021054693238015964",
         "0.0",
         "0.0",
         "-0.0026714978210840706",
         "-0.0015394310336385444",
         "5325463.005612691",
         "518.67",
         "6598704.8350447705",
         "642.6551024506746",
         "16330272.349067263",
         "1590.239978294594",
         "14464852.803328652",
         "1408.3286628614223",
         "150111.3793781271",
         "14.620000000000003",
         "221879.21447478954",
         "21.60975952068585",
         "5681895.591270614",
         "553.4309388235929",
         "24519851.597060613",
         "2388.0915560718017",
         "93084577.53301947",
         "9065.758273791462",
         "13347.797071925766",
         "1.3000000000000003",
         "488091.091760758",
         "47.52351180255939",
         "5353776.207706018",
         "521.4662572267969",
         "24519844.588046692",
         "2388.0906720234584",
         "83623050.15672831",
         "8144.422960578401",
         "86674.77460279067",
         "8.439842022103946",
         "308.0260862751892",
         "0.030000000000000013",
         "4037182.2133379034",
         "393.1285975895619",
         "24518876.46751212",
         "2388.0",
         "1026753.6209175929",
         "100.0",
         "398569.8794785298",
         "38.82664576997781",
         "239138.59096812908",
         "23.2955308874958",
         "518.67",
         "642.6773715908535",
         "1590.4859623953384",
         "1408.8613034324048",
         "14.620000000000003",
         "21.60980365274446",
         "553.3741595260246",
         "2388.0961337707486",
         "9065.128016941684",
         "1.3000000000000003",
         "47.539115702884004",
         "521.4192919747343",
         "2388.09561621701",
         "8143.669043725212",
         "8.44187042060422",
         "0.030000000000000013",
         "393.2001175145669",
         "2388.0",
         "100.0",
         "38.81763942613719",
         "23.290468863536212",
         "518.67",
         "518.67",
         "642.4062978994272",
         "642.9645271507615",
         "1586.8921328893894",
         "1594.2283805513391",
         "1405.212290946482",
         "1412.7874164422467",
         "14.620000000000003",
         "14.620000000000003",
         "21.609453361406267",
         "21.609999804142394",
         "552.9830256083826",
         "553.7422033981294",
         "2388.0688870391223",
         "2388.125275522695",
         "9061.176371248102",
         "9069.479449933899",
         "1.3000000000000003",
         "1.3000000000000003",
         "47.44650443127846",
         "47.63952289085834",
         "521.1235545218625",
         "521.6923445135387",
         "2388.0681285805217",
         "2388.1249550996426",
         "8140.606006757088",
         "8147.050161386673",
         "8.423687771630025",
         "8.460999507418107",
         "0.030000000000000013",
         "0.030000000000000013",
         "392.38802330705573",
         "394.0554962542232",
         "2388.0",
         "2388.0",
         "100.0",
         "100.0",
         "38.721022180874506",
         "38.908600205650494",
         "23.23293088380747",
         "23.344809206287028",
         "333340.971688415"
        ],
        [
         "std",
         "29.219595986342128",
         "68.37287226770087",
         "0.002187546136687587",
         "0.00029298900628475365",
         "0.0",
         "6.525784252741142e-11",
         "0.5003608384430774",
         "6.132681670797271",
         "9.000269928145164",
         "3.3822662285548597e-12",
         "0.0013755261134199425",
         "0.8849193327292139",
         "0.07102746235947191",
         "22.159439824223416",
         "4.634184361209291e-13",
         "0.26704430890881214",
         "0.7377411480774665",
         "0.07195824286089315",
         "19.144206020142995",
         "0.03752346473654097",
         "1.5442886463630924e-14",
         "1.548421361588068",
         "0.0",
         "0.0",
         "0.18067449904587354",
         "0.10823888744064447",
         "6.525784252741142e-11",
         "0.0",
         "0.408925214351214",
         "0.11265390200368497",
         "4.843619345518577",
         "1.4615943654984773",
         "8.002721230089856",
         "1.73471578054667",
         "3.3822662285548597e-12",
         "0.0",
         "0.0006978832475675934",
         "0.0012869893376377124",
         "0.7844824679632446",
         "0.1733427811103688",
         "0.06394799811697734",
         "0.01312475886424484",
         "20.951584361243935",
         "3.6293723580571515",
         "4.634184361209291e-13",
         "0.0",
         "0.24379019035838617",
         "0.04810096715775479",
         "0.6672557779498269",
         "0.13529279429894156",
         "0.06481554625405625",
         "0.013451451480029917",
         "18.19119807089567",
         "3.000941182668523",
         "0.03198117248876189",
         "0.007885659066109944",
         "1.5442886463630924e-14",
         "0.0",
         "1.2572587074576278",
         "0.3649708841814939",
         "0.0",
         "0.0",
         "0.0",
         "0.0",
         "0.1518978025595587",
         "0.03891693541122226",
         "0.09131614621110029",
         "0.022760233701826057",
         "0.0",
         "0.4273637715680981",
         "5.656779771366116",
         "5.697865098756804",
         "0.0",
         "0.0018815652867835262",
         "0.5772937451443823",
         "0.04281150956354981",
         "5.902875110904191",
         "0.0",
         "0.14356741570778514",
         "0.42432879670409485",
         "0.04303655641132712",
         "4.454470930863378",
         "0.02852713217175808",
         "0.0",
         "1.3383400073293135",
         "0.0",
         "0.0",
         "0.14286830514075602",
         "0.08520633308467876",
         "3073100.1074141287",
         "6.525784252741142e-11",
         "3807934.4022113187",
         "0.05552362642643314",
         "9424582.084572949",
         "0.6230024803069927",
         "8349450.091455827",
         "1.1849652844087086",
         "86622.94632500208",
         "3.3822662285548597e-12",
         "128037.33253893974",
         "5.702283362175251e-05",
         "3278525.3313758685",
         "0.11243410990942346",
         "14149394.372650508",
         "0.008130739113772061",
         "53711680.15698227",
         "2.6188871780908425",
         "7702.4507676119665",
         "4.634184361209291e-13",
         "281726.1633347717",
         "0.03534815345014666",
         "3089220.121356855",
         "0.09293184688181741",
         "14149391.89967178",
         "0.008527719103293262",
         "48251380.678789355",
         "2.2075058982394897",
         "50025.75704133542",
         "0.004415496568389819",
         "177.7488638679416",
         "1.5442886463630924e-14",
         "2329985.0058636437",
         "0.18925722048750512",
         "14148809.563896026",
         "0.0",
         "592496.2128934684",
         "0.0",
         "229956.8841264359",
         "0.020883650716286395",
         "137973.66696271006",
         "0.012483043929788032",
         "6.525784252741142e-11",
         "0.49578367727930245",
         "6.080647891523034",
         "8.886438042559782",
         "3.3822662285548597e-12",
         "0.0013874489424409327",
         "0.8753832393311434",
         "0.0701801487790484",
         "21.672362759613357",
         "4.634184361209291e-13",
         "0.2638047949082356",
         "0.7289143688947327",
         "0.0710641512896243",
         "18.730944117064666",
         "0.03714432553768792",
         "1.5442886463630924e-14",
         "1.5321948893731645",
         "0.0",
         "0.0",
         "0.17870598436540946",
         "0.10716418836789522",
         "6.525784252741142e-11",
         "6.525784252741142e-11",
         "0.42221856389525464",
         "0.4343509532591699",
         "5.0596041326575785",
         "5.152292857141195",
         "8.11702619589051",
         "8.403013573224706",
         "3.3822662285548597e-12",
         "3.3822662285548597e-12",
         "0.0018645932002302715",
         "2.7989827546175665e-05",
         "0.8229832567420979",
         "0.7976462730321051",
         "0.06483438533865776",
         "0.06705516894899763",
         "20.804148589509367",
         "22.629897432466766",
         "4.634184361209291e-13",
         "4.634184361209291e-13",
         "0.245272624311111",
         "0.2565133810031309",
         "0.7011368006271039",
         "0.6733505849727586",
         "0.0654861371335219",
         "0.06830180029349026",
         "18.09484773809179",
         "19.554548469640935",
         "0.03268133233257743",
         "0.033768887919726626",
         "1.5442886463630924e-14",
         "1.5442886463630924e-14",
         "1.3013193718590228",
         "1.350982706081425",
         "0.0",
         "0.0",
         "0.0",
         "0.0",
         "0.1608946459941748",
         "0.1555855240290472",
         "0.09613388636748277",
         "0.09371122451253804",
         "259.52215607527893"
        ],
        [
         "min",
         "1.0",
         "3.0",
         "-0.0087",
         "-0.0006",
         "100.0",
         "518.67",
         "641.21",
         "1571.04",
         "1382.25",
         "14.62",
         "21.6",
         "549.85",
         "2387.9",
         "9021.73",
         "1.3",
         "46.85",
         "518.69",
         "2387.88",
         "8099.94",
         "8.3249",
         "0.03",
         "388.0",
         "2388.0",
         "100.0",
         "38.14",
         "22.8942",
         "518.67",
         "0.0",
         "641.616",
         "0.0288097204900872",
         "1576.244",
         "0.29422780313558455",
         "1390.2779999999998",
         "0.3933446323878442",
         "14.62",
         "0.0",
         "21.602",
         "0.0",
         "550.8100000000001",
         "0.01949358908784831",
         "2387.9539999999997",
         "0.0",
         "9027.651999999998",
         "0.2610555514917583",
         "1.3",
         "0.0",
         "47.028",
         "0.0044721359650746195",
         "519.2239999999999",
         "0.023021729065030416",
         "2387.946",
         "0.0",
         "8103.466",
         "0.2185177207743329",
         "8.36702",
         "0.0011031772328642933",
         "0.03",
         "0.0",
         "390.0",
         "0.0",
         "2388.0",
         "0.0",
         "100.0",
         "0.0",
         "38.326",
         "0.008366600267107388",
         "23.011400000000002",
         "0.005331322538038425",
         "0.0",
         "-1.75",
         "-23.47999999999979",
         "-22.350000000000136",
         "0.0",
         "-0.00999999999999801",
         "-2.230000000000018",
         "-0.17000000000007276",
         "-22.11999999999898",
         "0.0",
         "-0.5899999999999963",
         "-2.0100000000001046",
         "-0.19000000000005457",
         "-18.779999999999745",
         "-0.12489999999999846",
         "0.0",
         "-6.0",
         "0.0",
         "0.0",
         "-0.529999999999994",
         "-0.34569999999999723",
         "3112.02",
         "518.67",
         "3853.25",
         "642.1871428571428",
         "9523.72",
         "1586.165",
         "8393.01",
         "1398.835",
         "87.72",
         "14.62",
         "129.66",
         "21.609499999999997",
         "3324.6800000000003",
         "553.3469090791349",
         "14328.189999999999",
         "2388.0316666666668",
         "54297.37999999999",
         "9048.231069518717",
         "7.8",
         "1.3",
         "283.22999999999996",
         "47.201428571428565",
         "3131.4500000000003",
         "521.39391011527",
         "14328.21",
         "2388.032857142857",
         "48791.89",
         "8128.772352941176",
         "50.4512",
         "8.406288888888888",
         "0.18",
         "0.03",
         "2351.0",
         "391.7142857142857",
         "14328.0",
         "2388.0",
         "600.0",
         "100.0",
         "233.99",
         "38.811970599663255",
         "140.4096",
         "23.286893048059625",
         "518.67",
         "641.21",
         "1571.04",
         "1382.25",
         "14.62",
         "21.6",
         "549.85",
         "2387.9",
         "9021.73",
         "1.3",
         "46.85",
         "518.69",
         "2387.88",
         "8099.94",
         "8.3249",
         "0.03",
         "388.0",
         "2388.0",
         "100.0",
         "38.14",
         "22.8942",
         "518.67",
         "518.67",
         "641.306",
         "641.786",
         "1573.104",
         "1579.472",
         "1384.654",
         "1393.196",
         "14.62",
         "14.62",
         "21.6",
         "21.606",
         "550.182",
         "551.0640000000001",
         "2387.926",
         "2387.976",
         "9025.03",
         "9029.756",
         "1.3",
         "1.3",
         "46.904",
         "47.092",
         "518.8620000000001",
         "519.408",
         "2387.9120000000003",
         "2387.966",
         "8101.472",
         "8104.4839999999995",
         "8.3413",
         "8.38018",
         "0.03",
         "0.03",
         "388.8",
         "390.6",
         "2388.0",
         "2388.0",
         "100.0",
         "100.0",
         "38.187999999999995",
         "38.392",
         "22.93864",
         "23.03132",
         "332576.3907"
        ],
        [
         "25%",
         "26.0",
         "54.0",
         "-0.0015",
         "-0.0002",
         "100.0",
         "518.67",
         "642.33",
         "1586.31",
         "1402.42",
         "14.62",
         "21.61",
         "552.8",
         "2388.05",
         "9053.15",
         "1.3",
         "47.35",
         "520.95",
         "2388.04",
         "8133.28",
         "8.415",
         "0.03",
         "392.0",
         "2388.0",
         "100.0",
         "38.7",
         "23.2207",
         "518.67",
         "0.0",
         "642.374",
         "0.2100595150352415",
         "1586.9470000000001",
         "2.791413620012342",
         "1402.783",
         "2.8135493593362444",
         "14.62",
         "0.0",
         "21.61",
         "0.0",
         "552.9200000000001",
         "0.2801963591623914",
         "2388.048",
         "0.020736441418670766",
         "9053.921000000002",
         "2.915114060238487",
         "1.3",
         "0.0",
         "47.354",
         "0.07071067811905585",
         "521.032",
         "0.20959484728327343",
         "2388.0460000000003",
         "0.0212132033318007",
         "8133.408",
         "2.2468266506588206",
         "8.41742",
         "0.013893883543766848",
         "0.03",
         "0.0",
         "392.2",
         "0.707106781186334",
         "2388.0",
         "0.0",
         "100.0",
         "0.0",
         "38.726",
         "0.07092249290785616",
         "23.236959999999996",
         "0.04237118713656314",
         "0.0",
         "-0.2799999999999727",
         "-3.7000000000000455",
         "-3.7100000000000364",
         "0.0",
         "0.0",
         "-0.39999999999997726",
         "-0.02999999999974534",
         "-3.719999999999345",
         "0.0",
         "-0.09000000000000341",
         "-0.2999999999999545",
         "-0.02999999999974534",
         "-2.869999999999891",
         "-0.018500000000001293",
         "0.0",
         "-1.0",
         "0.0",
         "0.0",
         "-0.10000000000000142",
         "-0.058900000000001285",
         "2664148.454999805",
         "518.67",
         "3301111.149999995",
         "642.666201488548",
         "8169722.659999987",
         "1590.3432005484533",
         "7235821.975000022",
         "1408.5429225777648",
         "75095.63000000207",
         "14.62",
         "110998.58500000267",
         "21.609752285816377",
         "2842503.6999999974",
         "553.3644125004137",
         "12266451.924999958",
         "2388.0919786119916",
         "46567598.32000014",
         "9065.354025266892",
         "6677.450000000597",
         "1.3",
         "244173.5550000002",
         "47.52979121448445",
         "2678344.940000004",
         "521.4099780850687",
         "12266445.484999977",
         "2388.091193420779",
         "41834513.60999995",
         "8143.8424032634575",
         "43358.07605000003",
         "8.440565380455945",
         "154.0950000000051",
         "0.03",
         "2019699.5",
         "393.1681743744007",
         "12265962.0",
         "2388.0",
         "513650.0",
         "100.0",
         "199391.5800000002",
         "38.81522162111198",
         "119632.25854999994",
         "23.288912310775743",
         "518.67",
         "642.32",
         "1586.26",
         "1402.36",
         "14.62",
         "21.61",
         "552.82",
         "2388.05",
         "9053.14",
         "1.3",
         "47.35",
         "520.96",
         "2388.04",
         "8133.29",
         "8.4148",
         "0.03",
         "392.0",
         "2388.0",
         "100.0",
         "38.7",
         "23.2227",
         "518.67",
         "518.67",
         "642.0999999999999",
         "642.65",
         "1583.307",
         "1590.4479999999999",
         "1399.068",
         "1406.475",
         "14.62",
         "14.62",
         "21.61",
         "21.61",
         "552.482",
         "553.262",
         "2388.02",
         "2388.076",
         "9049.84",
         "9057.576000000001",
         "1.3",
         "1.3",
         "47.262",
         "47.448",
         "520.702",
         "521.2909999999999",
         "2388.02",
         "2388.076",
         "8130.438",
         "8136.334",
         "8.39941",
         "8.435459999999999",
         "0.03",
         "0.03",
         "391.4",
         "393.0",
         "2388.0",
         "2388.0",
         "100.0",
         "100.0",
         "38.622",
         "38.814",
         "23.17395",
         "23.28686",
         "333157.3011"
        ],
        [
         "50%",
         "52.0",
         "105.0",
         "0.0",
         "0.0",
         "100.0",
         "518.67",
         "642.65",
         "1590.14",
         "1408.1",
         "14.62",
         "21.61",
         "553.44",
         "2388.09",
         "9060.72",
         "1.3",
         "47.52",
         "521.47",
         "2388.09",
         "8140.58",
         "8.4392",
         "0.03",
         "393.0",
         "2388.0",
         "100.0",
         "38.83",
         "23.297",
         "518.67",
         "0.0",
         "642.6339999999999",
         "0.27910571472958484",
         "1589.862",
         "3.698684901451716",
         "1407.868",
         "3.7339228700581053",
         "14.62",
         "0.0",
         "21.61",
         "0.0",
         "553.4459999999999",
         "0.37285385877823696",
         "2388.094",
         "0.027748873888274298",
         "9060.372",
         "3.854052412112787",
         "1.3",
         "0.0",
         "47.513999999999996",
         "0.0935414346694287",
         "521.476",
         "0.2770379035741622",
         "2388.094",
         "0.027748874100519093",
         "8140.544",
         "2.9635671065296645",
         "8.43832",
         "0.018508997811887373",
         "0.03",
         "0.0",
         "393.0",
         "0.8366600265342578",
         "2388.0",
         "0.0",
         "100.0",
         "0.0",
         "38.834",
         "0.09338094024039346",
         "23.3",
         "0.05601721164089556",
         "0.0",
         "0.009999999999990905",
         "0.06999999999993634",
         "0.11000000000012733",
         "0.0",
         "0.0",
         "-0.01999999999998181",
         "0.0",
         "0.17999999999847205",
         "0.0",
         "0.0",
         "-0.009999999999990905",
         "0.0",
         "0.11000000000058208",
         "0.000700000000000145",
         "0.0",
         "0.0",
         "0.0",
         "0.0",
         "0.0",
         "-0.002200000000001978",
         "5325703.559999423",
         "518.67",
         "6598936.049999989",
         "642.6740552786588",
         "16329908.980000058",
         "1590.4712681488202",
         "14463856.780000094",
         "1408.709773520515",
         "150118.15999997818",
         "14.62",
         "221889.06999994646",
         "21.609773329911896",
         "5682343.8599999985",
         "553.3939838129496",
         "24520938.609999914",
         "2388.0940956454974",
         "93095350.36999993",
         "9065.93174471857",
         "13348.399999997922",
         "1.3",
         "488061.00999999885",
         "47.535329687259285",
         "5354183.459999987",
         "521.4350816852966",
         "24520931.029999938",
         "2388.0932207372593",
         "83633369.24000013",
         "8144.486798418972",
         "86671.80729999962",
         "8.441311433714196",
         "308.0399999999616",
         "0.03",
         "4037157.0",
         "393.19618267387136",
         "24519984.0",
         "2388.0",
         "1026800.0",
         "100.0",
         "398618.2700000008",
         "38.819639574956916",
         "239163.30669999996",
         "23.2913543263288",
         "518.67",
         "642.64",
         "1590.1",
         "1408.0",
         "14.62",
         "21.61",
         "553.44",
         "2388.09",
         "9060.68",
         "1.3",
         "47.51",
         "521.48",
         "2388.09",
         "8140.56",
         "8.4388",
         "0.03",
         "393.0",
         "2388.0",
         "100.0",
         "38.83",
         "23.2981",
         "518.67",
         "518.67",
         "642.366",
         "642.912",
         "1586.376",
         "1593.556",
         "1404.248",
         "1411.78",
         "14.62",
         "14.62",
         "21.61",
         "21.61",
         "553.0559999999999",
         "553.804",
         "2388.0660000000003",
         "2388.1220000000003",
         "9056.742",
         "9064.226",
         "1.3",
         "1.3",
         "47.422",
         "47.611999999999995",
         "521.188",
         "521.744",
         "2388.064",
         "2388.1220000000003",
         "8137.61",
         "8143.454",
         "8.42026",
         "8.45722",
         "0.03",
         "0.03",
         "392.4",
         "394.0",
         "2388.0",
         "2388.0",
         "100.0",
         "100.0",
         "38.74",
         "38.924",
         "23.2433",
         "23.3538",
         "333323.2755"
        ],
        [
         "75%",
         "77.0",
         "157.0",
         "0.0015",
         "0.0003",
         "100.0",
         "518.67",
         "643.01",
         "1594.42",
         "1414.63",
         "14.62",
         "21.61",
         "554.0",
         "2388.14",
         "9069.525000000001",
         "1.3",
         "47.7",
         "521.95",
         "2388.14",
         "8148.38",
         "8.4658",
         "0.03",
         "394.0",
         "2388.0",
         "100.0",
         "38.94",
         "23.366",
         "518.67",
         "0.0",
         "642.925",
         "0.35281014718576115",
         "1593.284",
         "4.679073626264891",
         "1413.6570000000002",
         "4.7105196024665394",
         "14.62",
         "0.0",
         "21.61",
         "0.0",
         "553.978",
         "0.4780794912041403",
         "2388.134",
         "0.03563705920681082",
         "9068.622",
         "4.940435706459091",
         "1.3",
         "0.0",
         "47.682",
         "0.11903780912023329",
         "521.932",
         "0.35146834852064623",
         "2388.134",
         "0.03563705940486682",
         "8147.959000000001",
         "3.748796472718121",
         "8.460650000000001",
         "0.023620753581864676",
         "0.03",
         "0.0",
         "394.0",
         "1.1401754250990885",
         "2388.0",
         "0.0",
         "100.0",
         "0.0",
         "38.932",
         "0.11815243632364905",
         "23.35888",
         "0.07037675377567926",
         "0.0",
         "0.2999999999999545",
         "3.8900000000001",
         "4.009999999999991",
         "0.0",
         "0.0",
         "0.37000000000000455",
         "0.03000000000020009",
         "4.190000000000509",
         "0.0",
         "0.10000000000000142",
         "0.2799999999999727",
         "0.03000000000020009",
         "3.219999999999345",
         "0.019499999999998963",
         "0.0",
         "1.0",
         "0.0",
         "0.0",
         "0.09000000000000341",
         "0.05649999999999977",
         "7986739.994999041",
         "518.67",
         "9896474.769999951",
         "642.6845939855516",
         "24493358.190000042",
         "1590.5653608186763",
         "21698404.305000097",
         "1408.9806165149498",
         "225126.06999995428",
         "14.62",
         "332758.6149998753",
         "21.609795055057546",
         "8520759.504999988",
         "553.4122675234739",
         "36773131.91999981",
         "2388.097004142678",
         "139593693.33999926",
         "9066.821729507887",
         "20018.04999999419",
         "1.3",
         "732155.2449999952",
         "47.542948429462555",
         "8028729.189999992",
         "521.4517957854731",
         "36773123.91499975",
         "2388.0963875430843",
         "125403039.66000015",
         "8145.325272316486",
         "130008.21734999941",
         "8.442341301716542",
         "461.9549999998216",
         "0.03",
         "6055333.5",
         "393.22175999708116",
         "36771618.0",
         "2388.0",
         "1539850.0",
         "100.0",
         "597654.5700000024",
         "38.82291562466132",
         "358593.14279999956",
         "23.29331254606133",
         "518.67",
         "643.0",
         "1594.32",
         "1414.49",
         "14.62",
         "21.61",
         "554.01",
         "2388.14",
         "9069.4",
         "1.3",
         "47.7",
         "521.95",
         "2388.14",
         "8148.295",
         "8.4653",
         "0.03",
         "394.0",
         "2388.0",
         "100.0",
         "38.95",
         "23.3668",
         "518.67",
         "518.67",
         "642.667",
         "643.236",
         "1589.954",
         "1597.415",
         "1410.1419999999998",
         "1417.8629999999998",
         "14.62",
         "14.62",
         "21.61",
         "21.61",
         "553.604",
         "554.356",
         "2388.11",
         "2388.166",
         "9065.062",
         "9072.874",
         "1.3",
         "1.3",
         "47.594",
         "47.792",
         "521.66",
         "522.204",
         "2388.1079999999997",
         "2388.166",
         "8145.222",
         "8151.07",
         "8.44402",
         "8.481539999999999",
         "0.03",
         "0.03",
         "393.0",
         "395.0",
         "2388.0",
         "2388.0",
         "100.0",
         "100.0",
         "38.84",
         "39.026",
         "23.3032",
         "23.41368",
         "333509.99669999996"
        ],
        [
         "max",
         "100.0",
         "362.0",
         "0.0087",
         "0.0006",
         "100.0",
         "518.67",
         "644.53",
         "1616.91",
         "1441.49",
         "14.62",
         "21.61",
         "556.06",
         "2388.56",
         "9244.59",
         "1.3",
         "48.53",
         "523.38",
         "2388.56",
         "8293.72",
         "8.5848",
         "0.03",
         "400.0",
         "2388.0",
         "100.0",
         "39.43",
         "23.6184",
         "518.67",
         "0.0",
         "644.02",
         "1.2444757932573756",
         "1608.0700000000002",
         "15.263680093612894",
         "1432.984",
         "23.00085650578941",
         "14.62",
         "0.0",
         "21.61",
         "0.005477225575052396",
         "555.1740000000001",
         "2.347843691565801",
         "2388.326",
         "0.24661711213328794",
         "9223.844000000001",
         "102.2637336987471",
         "1.3",
         "0.0",
         "48.274",
         "0.6774363438730434",
         "522.97",
         "1.9123414967018084",
         "2388.338",
         "0.2746452256990697",
         "8281.151999999998",
         "88.39834342338861",
         "8.54242",
         "0.08588604077500424",
         "0.03",
         "0.0",
         "397.6",
         "3.9623225512317477",
         "2388.0",
         "0.0",
         "100.0",
         "0.0",
         "39.186",
         "0.4656500832171273",
         "23.50716",
         "0.24905524487544795",
         "0.0",
         "1.5699999999999363",
         "23.11999999999989",
         "25.00999999999999",
         "0.0",
         "0.00999999999999801",
         "2.7000000000000455",
         "0.34999999999990905",
         "24.0",
         "0.0",
         "0.5500000000000043",
         "1.7899999999999636",
         "0.3500000000003638",
         "17.550000000000182",
         "0.11339999999999861",
         "0.0",
         "6.0",
         "0.0",
         "0.0",
         "0.5899999999999963",
         "0.3406999999999982",
         "10646739.089998659",
         "518.67",
         "13192341.399999911",
         "642.6969802107428",
         "32649095.440000135",
         "1590.6894911333845",
         "28921853.630000003",
         "1409.1537961403965",
         "300104.73999993043",
         "14.62",
         "443584.4599998027",
         "21.61",
         "11358913.179999972",
         "554.2014285714286",
         "49020464.0600003",
         "2388.1113368983956",
         "186083241.52",
         "9070.932429990966",
         "26685.09999999046",
         "1.3",
         "975898.3899999938",
         "47.54871112824467",
         "10703001.61000006",
         "522.0543589743589",
         "49020454.090000026",
         "2388.112513368984",
         "167167487.2600006",
         "8149.895158084913",
         "173294.3189999996",
         "8.44304175624919",
         "615.8099999996817",
         "0.03",
         "8071552.0",
         "393.251477769211",
         "49018476.0",
         "2388.0",
         "2052700.0",
         "100.0",
         "796768.9700000031",
         "39.01777777777777",
         "478060.04620000103",
         "23.401600000000002",
         "518.67",
         "644.53",
         "1616.91",
         "1438.51",
         "14.62",
         "21.61",
         "556.06",
         "2388.46",
         "9226.6",
         "1.3",
         "48.48",
         "523.38",
         "2388.49",
         "8288.26",
         "8.5848",
         "0.03",
         "400.0",
         "2388.0",
         "100.0",
         "39.43",
         "23.6184",
         "518.67",
         "518.67",
         "643.822",
         "644.414",
         "1605.9379999999999",
         "1613.726",
         "1430.8020000000001",
         "1437.758",
         "14.62",
         "14.62",
         "21.61",
         "21.61",
         "554.944",
         "555.568",
         "2388.31",
         "2388.52",
         "9213.98",
         "9237.394",
         "1.3",
         "1.3",
         "48.174",
         "48.41",
         "522.6560000000001",
         "523.336",
         "2388.324",
         "2388.52",
         "8271.422",
         "8291.536",
         "8.52864",
         "8.56984",
         "0.03",
         "0.03",
         "397.0",
         "398.8",
         "2388.0",
         "2388.0",
         "100.0",
         "100.0",
         "39.15",
         "39.333999999999996",
         "23.45984",
         "23.594579999999997",
         "334298.37509999995"
        ]
       ],
       "shape": {
        "columns": 195,
        "rows": 8
       }
      },
      "text/html": [
       "<div>\n",
       "<style scoped>\n",
       "    .dataframe tbody tr th:only-of-type {\n",
       "        vertical-align: middle;\n",
       "    }\n",
       "\n",
       "    .dataframe tbody tr th {\n",
       "        vertical-align: top;\n",
       "    }\n",
       "\n",
       "    .dataframe thead th {\n",
       "        text-align: right;\n",
       "    }\n",
       "</style>\n",
       "<table border=\"1\" class=\"dataframe\">\n",
       "  <thead>\n",
       "    <tr style=\"text-align: right;\">\n",
       "      <th></th>\n",
       "      <th>engine_id</th>\n",
       "      <th>time_in_cycles</th>\n",
       "      <th>operational_setting_1</th>\n",
       "      <th>operational_setting_2</th>\n",
       "      <th>operational_setting_3</th>\n",
       "      <th>sensor_1</th>\n",
       "      <th>sensor_2</th>\n",
       "      <th>sensor_3</th>\n",
       "      <th>sensor_4</th>\n",
       "      <th>sensor_5</th>\n",
       "      <th>...</th>\n",
       "      <th>sensor_17_rolling_90th</th>\n",
       "      <th>sensor_18_rolling_10th</th>\n",
       "      <th>sensor_18_rolling_90th</th>\n",
       "      <th>sensor_19_rolling_10th</th>\n",
       "      <th>sensor_19_rolling_90th</th>\n",
       "      <th>sensor_20_rolling_10th</th>\n",
       "      <th>sensor_20_rolling_90th</th>\n",
       "      <th>sensor_21_rolling_10th</th>\n",
       "      <th>sensor_21_rolling_90th</th>\n",
       "      <th>sensor_1_sensor_2_interaction</th>\n",
       "    </tr>\n",
       "  </thead>\n",
       "  <tbody>\n",
       "    <tr>\n",
       "      <th>count</th>\n",
       "      <td>20423.000000</td>\n",
       "      <td>20423.000000</td>\n",
       "      <td>20423.000000</td>\n",
       "      <td>20423.000000</td>\n",
       "      <td>20423.0</td>\n",
       "      <td>2.042300e+04</td>\n",
       "      <td>20423.000000</td>\n",
       "      <td>20423.000000</td>\n",
       "      <td>20423.000000</td>\n",
       "      <td>2.042300e+04</td>\n",
       "      <td>...</td>\n",
       "      <td>20423.000000</td>\n",
       "      <td>20423.0</td>\n",
       "      <td>20423.0</td>\n",
       "      <td>20423.0</td>\n",
       "      <td>20423.0</td>\n",
       "      <td>20423.000000</td>\n",
       "      <td>20423.000000</td>\n",
       "      <td>20423.000000</td>\n",
       "      <td>20423.000000</td>\n",
       "      <td>20423.000000</td>\n",
       "    </tr>\n",
       "    <tr>\n",
       "      <th>mean</th>\n",
       "      <td>51.536209</td>\n",
       "      <td>109.898791</td>\n",
       "      <td>-0.000008</td>\n",
       "      <td>0.000002</td>\n",
       "      <td>100.0</td>\n",
       "      <td>5.186700e+02</td>\n",
       "      <td>642.684118</td>\n",
       "      <td>1590.561123</td>\n",
       "      <td>1408.999687</td>\n",
       "      <td>1.462000e+01</td>\n",
       "      <td>...</td>\n",
       "      <td>394.055496</td>\n",
       "      <td>2388.0</td>\n",
       "      <td>2388.0</td>\n",
       "      <td>100.0</td>\n",
       "      <td>100.0</td>\n",
       "      <td>38.721022</td>\n",
       "      <td>38.908600</td>\n",
       "      <td>23.232931</td>\n",
       "      <td>23.344809</td>\n",
       "      <td>333340.971688</td>\n",
       "    </tr>\n",
       "    <tr>\n",
       "      <th>std</th>\n",
       "      <td>29.219596</td>\n",
       "      <td>68.372872</td>\n",
       "      <td>0.002188</td>\n",
       "      <td>0.000293</td>\n",
       "      <td>0.0</td>\n",
       "      <td>6.525784e-11</td>\n",
       "      <td>0.500361</td>\n",
       "      <td>6.132682</td>\n",
       "      <td>9.000270</td>\n",
       "      <td>3.382266e-12</td>\n",
       "      <td>...</td>\n",
       "      <td>1.350983</td>\n",
       "      <td>0.0</td>\n",
       "      <td>0.0</td>\n",
       "      <td>0.0</td>\n",
       "      <td>0.0</td>\n",
       "      <td>0.160895</td>\n",
       "      <td>0.155586</td>\n",
       "      <td>0.096134</td>\n",
       "      <td>0.093711</td>\n",
       "      <td>259.522156</td>\n",
       "    </tr>\n",
       "    <tr>\n",
       "      <th>min</th>\n",
       "      <td>1.000000</td>\n",
       "      <td>3.000000</td>\n",
       "      <td>-0.008700</td>\n",
       "      <td>-0.000600</td>\n",
       "      <td>100.0</td>\n",
       "      <td>5.186700e+02</td>\n",
       "      <td>641.210000</td>\n",
       "      <td>1571.040000</td>\n",
       "      <td>1382.250000</td>\n",
       "      <td>1.462000e+01</td>\n",
       "      <td>...</td>\n",
       "      <td>390.600000</td>\n",
       "      <td>2388.0</td>\n",
       "      <td>2388.0</td>\n",
       "      <td>100.0</td>\n",
       "      <td>100.0</td>\n",
       "      <td>38.188000</td>\n",
       "      <td>38.392000</td>\n",
       "      <td>22.938640</td>\n",
       "      <td>23.031320</td>\n",
       "      <td>332576.390700</td>\n",
       "    </tr>\n",
       "    <tr>\n",
       "      <th>25%</th>\n",
       "      <td>26.000000</td>\n",
       "      <td>54.000000</td>\n",
       "      <td>-0.001500</td>\n",
       "      <td>-0.000200</td>\n",
       "      <td>100.0</td>\n",
       "      <td>5.186700e+02</td>\n",
       "      <td>642.330000</td>\n",
       "      <td>1586.310000</td>\n",
       "      <td>1402.420000</td>\n",
       "      <td>1.462000e+01</td>\n",
       "      <td>...</td>\n",
       "      <td>393.000000</td>\n",
       "      <td>2388.0</td>\n",
       "      <td>2388.0</td>\n",
       "      <td>100.0</td>\n",
       "      <td>100.0</td>\n",
       "      <td>38.622000</td>\n",
       "      <td>38.814000</td>\n",
       "      <td>23.173950</td>\n",
       "      <td>23.286860</td>\n",
       "      <td>333157.301100</td>\n",
       "    </tr>\n",
       "    <tr>\n",
       "      <th>50%</th>\n",
       "      <td>52.000000</td>\n",
       "      <td>105.000000</td>\n",
       "      <td>0.000000</td>\n",
       "      <td>0.000000</td>\n",
       "      <td>100.0</td>\n",
       "      <td>5.186700e+02</td>\n",
       "      <td>642.650000</td>\n",
       "      <td>1590.140000</td>\n",
       "      <td>1408.100000</td>\n",
       "      <td>1.462000e+01</td>\n",
       "      <td>...</td>\n",
       "      <td>394.000000</td>\n",
       "      <td>2388.0</td>\n",
       "      <td>2388.0</td>\n",
       "      <td>100.0</td>\n",
       "      <td>100.0</td>\n",
       "      <td>38.740000</td>\n",
       "      <td>38.924000</td>\n",
       "      <td>23.243300</td>\n",
       "      <td>23.353800</td>\n",
       "      <td>333323.275500</td>\n",
       "    </tr>\n",
       "    <tr>\n",
       "      <th>75%</th>\n",
       "      <td>77.000000</td>\n",
       "      <td>157.000000</td>\n",
       "      <td>0.001500</td>\n",
       "      <td>0.000300</td>\n",
       "      <td>100.0</td>\n",
       "      <td>5.186700e+02</td>\n",
       "      <td>643.010000</td>\n",
       "      <td>1594.420000</td>\n",
       "      <td>1414.630000</td>\n",
       "      <td>1.462000e+01</td>\n",
       "      <td>...</td>\n",
       "      <td>395.000000</td>\n",
       "      <td>2388.0</td>\n",
       "      <td>2388.0</td>\n",
       "      <td>100.0</td>\n",
       "      <td>100.0</td>\n",
       "      <td>38.840000</td>\n",
       "      <td>39.026000</td>\n",
       "      <td>23.303200</td>\n",
       "      <td>23.413680</td>\n",
       "      <td>333509.996700</td>\n",
       "    </tr>\n",
       "    <tr>\n",
       "      <th>max</th>\n",
       "      <td>100.000000</td>\n",
       "      <td>362.000000</td>\n",
       "      <td>0.008700</td>\n",
       "      <td>0.000600</td>\n",
       "      <td>100.0</td>\n",
       "      <td>5.186700e+02</td>\n",
       "      <td>644.530000</td>\n",
       "      <td>1616.910000</td>\n",
       "      <td>1441.490000</td>\n",
       "      <td>1.462000e+01</td>\n",
       "      <td>...</td>\n",
       "      <td>398.800000</td>\n",
       "      <td>2388.0</td>\n",
       "      <td>2388.0</td>\n",
       "      <td>100.0</td>\n",
       "      <td>100.0</td>\n",
       "      <td>39.150000</td>\n",
       "      <td>39.334000</td>\n",
       "      <td>23.459840</td>\n",
       "      <td>23.594580</td>\n",
       "      <td>334298.375100</td>\n",
       "    </tr>\n",
       "  </tbody>\n",
       "</table>\n",
       "<p>8 rows × 195 columns</p>\n",
       "</div>"
      ],
      "text/plain": [
       "          engine_id  time_in_cycles  operational_setting_1  \\\n",
       "count  20423.000000    20423.000000           20423.000000   \n",
       "mean      51.536209      109.898791              -0.000008   \n",
       "std       29.219596       68.372872               0.002188   \n",
       "min        1.000000        3.000000              -0.008700   \n",
       "25%       26.000000       54.000000              -0.001500   \n",
       "50%       52.000000      105.000000               0.000000   \n",
       "75%       77.000000      157.000000               0.001500   \n",
       "max      100.000000      362.000000               0.008700   \n",
       "\n",
       "       operational_setting_2  operational_setting_3      sensor_1  \\\n",
       "count           20423.000000                20423.0  2.042300e+04   \n",
       "mean                0.000002                  100.0  5.186700e+02   \n",
       "std                 0.000293                    0.0  6.525784e-11   \n",
       "min                -0.000600                  100.0  5.186700e+02   \n",
       "25%                -0.000200                  100.0  5.186700e+02   \n",
       "50%                 0.000000                  100.0  5.186700e+02   \n",
       "75%                 0.000300                  100.0  5.186700e+02   \n",
       "max                 0.000600                  100.0  5.186700e+02   \n",
       "\n",
       "           sensor_2      sensor_3      sensor_4      sensor_5  ...  \\\n",
       "count  20423.000000  20423.000000  20423.000000  2.042300e+04  ...   \n",
       "mean     642.684118   1590.561123   1408.999687  1.462000e+01  ...   \n",
       "std        0.500361      6.132682      9.000270  3.382266e-12  ...   \n",
       "min      641.210000   1571.040000   1382.250000  1.462000e+01  ...   \n",
       "25%      642.330000   1586.310000   1402.420000  1.462000e+01  ...   \n",
       "50%      642.650000   1590.140000   1408.100000  1.462000e+01  ...   \n",
       "75%      643.010000   1594.420000   1414.630000  1.462000e+01  ...   \n",
       "max      644.530000   1616.910000   1441.490000  1.462000e+01  ...   \n",
       "\n",
       "       sensor_17_rolling_90th  sensor_18_rolling_10th  sensor_18_rolling_90th  \\\n",
       "count            20423.000000                 20423.0                 20423.0   \n",
       "mean               394.055496                  2388.0                  2388.0   \n",
       "std                  1.350983                     0.0                     0.0   \n",
       "min                390.600000                  2388.0                  2388.0   \n",
       "25%                393.000000                  2388.0                  2388.0   \n",
       "50%                394.000000                  2388.0                  2388.0   \n",
       "75%                395.000000                  2388.0                  2388.0   \n",
       "max                398.800000                  2388.0                  2388.0   \n",
       "\n",
       "       sensor_19_rolling_10th  sensor_19_rolling_90th  sensor_20_rolling_10th  \\\n",
       "count                 20423.0                 20423.0            20423.000000   \n",
       "mean                    100.0                   100.0               38.721022   \n",
       "std                       0.0                     0.0                0.160895   \n",
       "min                     100.0                   100.0               38.188000   \n",
       "25%                     100.0                   100.0               38.622000   \n",
       "50%                     100.0                   100.0               38.740000   \n",
       "75%                     100.0                   100.0               38.840000   \n",
       "max                     100.0                   100.0               39.150000   \n",
       "\n",
       "       sensor_20_rolling_90th  sensor_21_rolling_10th  sensor_21_rolling_90th  \\\n",
       "count            20423.000000            20423.000000            20423.000000   \n",
       "mean                38.908600               23.232931               23.344809   \n",
       "std                  0.155586                0.096134                0.093711   \n",
       "min                 38.392000               22.938640               23.031320   \n",
       "25%                 38.814000               23.173950               23.286860   \n",
       "50%                 38.924000               23.243300               23.353800   \n",
       "75%                 39.026000               23.303200               23.413680   \n",
       "max                 39.334000               23.459840               23.594580   \n",
       "\n",
       "       sensor_1_sensor_2_interaction  \n",
       "count                   20423.000000  \n",
       "mean                   333340.971688  \n",
       "std                       259.522156  \n",
       "min                    332576.390700  \n",
       "25%                    333157.301100  \n",
       "50%                    333323.275500  \n",
       "75%                    333509.996700  \n",
       "max                    334298.375100  \n",
       "\n",
       "[8 rows x 195 columns]"
      ]
     },
     "execution_count": 31,
     "metadata": {},
     "output_type": "execute_result"
    }
   ],
   "source": [
    "train_df.describe()"
   ]
  }
 ],
 "metadata": {
  "kernelspec": {
   "display_name": "pm-env",
   "language": "python",
   "name": "python3"
  },
  "language_info": {
   "codemirror_mode": {
    "name": "ipython",
    "version": 3
   },
   "file_extension": ".py",
   "mimetype": "text/x-python",
   "name": "python",
   "nbconvert_exporter": "python",
   "pygments_lexer": "ipython3",
   "version": "3.9.18"
  }
 },
 "nbformat": 4,
 "nbformat_minor": 2
}
