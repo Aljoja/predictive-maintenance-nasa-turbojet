{
 "cells": [
  {
   "cell_type": "code",
   "execution_count": 7,
   "metadata": {},
   "outputs": [],
   "source": [
    "import os\n",
    "import sys\n",
    "\n",
    "# Add the root directory to the system path\n",
    "sys.path.append(os.path.abspath(os.path.join(os.getcwd(), '..')))\n",
    "\n",
    "# Import necessary functions from model.py\n",
    "from src.model import train_random_forest, train_xgboost, train_lstm, evaluate_model, save_model\n",
    "from src.utils import preprocess_data\n",
    "from sklearn.model_selection import train_test_split\n",
    "import pandas as pd"
   ]
  },
  {
   "cell_type": "code",
   "execution_count": 11,
   "metadata": {},
   "outputs": [
    {
     "ename": "AttributeError",
     "evalue": "'numpy.ndarray' object has no attribute 'values'",
     "output_type": "error",
     "traceback": [
      "\u001b[1;31m---------------------------------------------------------------------------\u001b[0m",
      "\u001b[1;31mAttributeError\u001b[0m                            Traceback (most recent call last)",
      "Cell \u001b[1;32mIn[11], line 37\u001b[0m\n\u001b[0;32m     35\u001b[0m X_train_lstm \u001b[38;5;241m=\u001b[39m X_train\u001b[38;5;241m.\u001b[39mvalues\u001b[38;5;241m.\u001b[39mreshape((X_train\u001b[38;5;241m.\u001b[39mshape[\u001b[38;5;241m0\u001b[39m], \u001b[38;5;241m1\u001b[39m, X_train\u001b[38;5;241m.\u001b[39mshape[\u001b[38;5;241m1\u001b[39m]))\n\u001b[0;32m     36\u001b[0m X_val_lstm \u001b[38;5;241m=\u001b[39m X_val\u001b[38;5;241m.\u001b[39mvalues\u001b[38;5;241m.\u001b[39mreshape((X_val\u001b[38;5;241m.\u001b[39mshape[\u001b[38;5;241m0\u001b[39m], \u001b[38;5;241m1\u001b[39m, X_val\u001b[38;5;241m.\u001b[39mshape[\u001b[38;5;241m1\u001b[39m]))\n\u001b[1;32m---> 37\u001b[0m lstm_model \u001b[38;5;241m=\u001b[39m \u001b[43mtrain_lstm\u001b[49m\u001b[43m(\u001b[49m\u001b[43mX_train_lstm\u001b[49m\u001b[43m,\u001b[49m\u001b[43m \u001b[49m\u001b[43my_train\u001b[49m\u001b[43m)\u001b[49m\n\u001b[0;32m     39\u001b[0m \u001b[38;5;66;03m# Evaluate Models\u001b[39;00m\n\u001b[0;32m     40\u001b[0m rf_mae, rf_rmse \u001b[38;5;241m=\u001b[39m evaluate_model(rf_model, X_val, y_val)\n",
      "File \u001b[1;32mc:\\Users\\amurd\\Desktop\\GitRepositories\\predictive-maintenance-tensorflow\\src\\model.py:24\u001b[0m, in \u001b[0;36mtrain_lstm\u001b[1;34m(X_train, y_train)\u001b[0m\n\u001b[0;32m     22\u001b[0m \u001b[38;5;28;01mdef\u001b[39;00m\u001b[38;5;250m \u001b[39m\u001b[38;5;21mtrain_lstm\u001b[39m(X_train, y_train):\n\u001b[0;32m     23\u001b[0m     \u001b[38;5;66;03m# Reshape data for LSTM input\u001b[39;00m\n\u001b[1;32m---> 24\u001b[0m     X_train_lstm \u001b[38;5;241m=\u001b[39m \u001b[43mX_train\u001b[49m\u001b[38;5;241;43m.\u001b[39;49m\u001b[43mvalues\u001b[49m\u001b[38;5;241m.\u001b[39mreshape((X_train\u001b[38;5;241m.\u001b[39mshape[\u001b[38;5;241m0\u001b[39m], \u001b[38;5;241m1\u001b[39m, X_train\u001b[38;5;241m.\u001b[39mshape[\u001b[38;5;241m1\u001b[39m]))\n\u001b[0;32m     26\u001b[0m     \u001b[38;5;66;03m# Build LSTM model\u001b[39;00m\n\u001b[0;32m     27\u001b[0m     model \u001b[38;5;241m=\u001b[39m Sequential()\n",
      "\u001b[1;31mAttributeError\u001b[0m: 'numpy.ndarray' object has no attribute 'values'"
     ]
    }
   ],
   "source": [
    "# Load your data (assuming train_df and test_df are already preprocessed)\n",
    "# You may have already performed this in a separate notebook step\n",
    "\n",
    "# Example for loading data (you can skip this if data is already loaded)\n",
    "train_data_path = '../data/CMaps/train_FD001.txt'\n",
    "test_data_path = '../data/CMaps/test_FD001.txt'\n",
    "rul_data_path = '../data/CMaps/RUL_FD001.txt'\n",
    "col_names = [\n",
    "    'engine_id', 'time_in_cycles', \n",
    "    'operational_setting_1', 'operational_setting_2', 'operational_setting_3'\n",
    "] + [f'sensor_{i}' for i in range(1, 27)]  # This creates sensor_1 to sensor_21\n",
    "train_df = pd.read_csv(train_data_path, sep=' ', header=None, names=col_names)\n",
    "test_df = pd.read_csv(test_data_path, sep=' ', header=None, names=col_names)\n",
    "rul_df = pd.read_csv(rul_data_path, header=None, names=['RUL'])\n",
    "test_df['RUL'] = test_df['engine_id'].map(lambda x: rul_df.loc[x - 1, 'RUL'])\n",
    "train_df['RUL'] = train_df['engine_id'].map(lambda x: rul_df.loc[x - 1, 'RUL'])\n",
    "\n",
    "# Preprocess data (normalization, encoding, etc.)\n",
    "train_df, test_df = preprocess_data(train_df, test_df)\n",
    "\n",
    "# Define features and target variable\n",
    "X = train_df.drop(columns=['RUL', 'engine_id', 'time_in_cycles'])  # Features (drop non-feature columns)\n",
    "y = train_df['RUL']  # Target (RUL)\n",
    "\n",
    "# Split the training data into training and validation sets\n",
    "X_train, X_val, y_train, y_val = train_test_split(X, y, test_size=0.2, random_state=42)\n",
    "\n",
    "# Train Random Forest Model\n",
    "rf_model = train_random_forest(X_train, y_train)\n",
    "\n",
    "# Train XGBoost Model\n",
    "xgb_model = train_xgboost(X_train, y_train)\n",
    "\n",
    "# Train LSTM Model (reshape for LSTM input)\n",
    "X_train_lstm = X_train.values.reshape((X_train.shape[0], 1, X_train.shape[1]))\n",
    "X_val_lstm = X_val.values.reshape((X_val.shape[0], 1, X_val.shape[1]))\n",
    "lstm_model = train_lstm(X_train_lstm, y_train)\n",
    "\n",
    "# Evaluate Models\n",
    "rf_mae, rf_rmse = evaluate_model(rf_model, X_val, y_val)\n",
    "xgb_mae, xgb_rmse = evaluate_model(xgb_model, X_val, y_val)\n",
    "lstm_mae, lstm_rmse = evaluate_model(lstm_model, X_val_lstm, y_val)\n",
    "\n",
    "# Print evaluation metrics\n",
    "print(f\"Random Forest - MAE: {rf_mae}, RMSE: {rf_rmse}\")\n",
    "print(f\"XGBoost - MAE: {xgb_mae}, RMSE: {xgb_rmse}\")\n",
    "print(f\"LSTM - MAE: {lstm_mae}, RMSE: {lstm_rmse}\")\n",
    "\n",
    "# Save the best model (e.g., Random Forest in this case)\n",
    "# save_model(rf_model, 'random_forest_model')"
   ]
  }
 ],
 "metadata": {
  "kernelspec": {
   "display_name": "pm-env",
   "language": "python",
   "name": "python3"
  },
  "language_info": {
   "codemirror_mode": {
    "name": "ipython",
    "version": 3
   },
   "file_extension": ".py",
   "mimetype": "text/x-python",
   "name": "python",
   "nbconvert_exporter": "python",
   "pygments_lexer": "ipython3",
   "version": "3.9.18"
  }
 },
 "nbformat": 4,
 "nbformat_minor": 2
}
